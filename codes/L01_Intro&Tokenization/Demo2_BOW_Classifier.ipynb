{
  "nbformat": 4,
  "nbformat_minor": 0,
  "metadata": {
    "colab": {
      "provenance": [],
      "toc_visible": true
    },
    "kernelspec": {
      "name": "python3",
      "display_name": "Python 3"
    },
    "language_info": {
      "name": "python"
    }
  },
  "cells": [
    {
      "cell_type": "markdown",
      "source": [
        "# Build a Rule-based Sentiment Classifier\n",
        "\n",
        "This demo is a notebook with references from [CMU CS11-711 Advanced NLP](http://phontron.com/class/anlp2024/),  that trains a sentiment classifier based on data. Specifically, it uses a bag-of-words to extract features, and the structured perceptron algorithm to train the classifier.\n",
        "\n",
        "It will take in a text `X` and return a `label` of \\\"1\\\" if the sentiment of the text is positive, \\\"-1\\\" if the sentiment of the text is negative, and \\\"0\\\" if the sentiment of the text is neutral. You can test the accuracy of your classifier on the [Stanford Sentiment Treebank](http://nlp.stanford.edu/sentiment/index.html) by running the notebook all the way to end."
      ],
      "metadata": {
        "id": "nIEiktiOzhZw"
      }
    },
    {
      "cell_type": "code",
      "source": [
        "import random\n",
        "import tqdm\n",
        "!wget https://github.com/neubig/anlp-code/raw/refs/heads/main/data/sst-sentiment-text-threeclass/train.txt\n",
        "!wget https://github.com/neubig/anlp-code/raw/refs/heads/main/data/sst-sentiment-text-threeclass/dev.txt"
      ],
      "metadata": {
        "colab": {
          "base_uri": "https://localhost:8080/"
        },
        "id": "M4yfJuKEOIpV",
        "outputId": "acfb751a-a26b-4881-d0a6-ad57f1814447"
      },
      "execution_count": null,
      "outputs": [
        {
          "output_type": "stream",
          "name": "stdout",
          "text": [
            "--2025-01-01 14:15:51--  https://github.com/neubig/anlp-code/raw/refs/heads/main/data/sst-sentiment-text-threeclass/train.txt\n",
            "Resolving github.com (github.com)... 140.82.112.4\n",
            "Connecting to github.com (github.com)|140.82.112.4|:443... connected.\n",
            "HTTP request sent, awaiting response... 302 Found\n",
            "Location: https://raw.githubusercontent.com/neubig/anlp-code/refs/heads/main/data/sst-sentiment-text-threeclass/train.txt [following]\n",
            "--2025-01-01 14:15:52--  https://raw.githubusercontent.com/neubig/anlp-code/refs/heads/main/data/sst-sentiment-text-threeclass/train.txt\n",
            "Resolving raw.githubusercontent.com (raw.githubusercontent.com)... 185.199.108.133, 185.199.109.133, 185.199.110.133, ...\n",
            "Connecting to raw.githubusercontent.com (raw.githubusercontent.com)|185.199.108.133|:443... connected.\n",
            "HTTP request sent, awaiting response... 200 OK\n",
            "Length: 940304 (918K) [text/plain]\n",
            "Saving to: ‘train.txt’\n",
            "\n",
            "train.txt           100%[===================>] 918.27K  --.-KB/s    in 0.009s  \n",
            "\n",
            "2025-01-01 14:15:52 (94.7 MB/s) - ‘train.txt’ saved [940304/940304]\n",
            "\n",
            "--2025-01-01 14:15:52--  https://github.com/neubig/anlp-code/raw/refs/heads/main/data/sst-sentiment-text-threeclass/dev.txt\n",
            "Resolving github.com (github.com)... 140.82.114.4\n",
            "Connecting to github.com (github.com)|140.82.114.4|:443... connected.\n",
            "HTTP request sent, awaiting response... 302 Found\n",
            "Location: https://raw.githubusercontent.com/neubig/anlp-code/refs/heads/main/data/sst-sentiment-text-threeclass/dev.txt [following]\n",
            "--2025-01-01 14:15:52--  https://raw.githubusercontent.com/neubig/anlp-code/refs/heads/main/data/sst-sentiment-text-threeclass/dev.txt\n",
            "Resolving raw.githubusercontent.com (raw.githubusercontent.com)... 185.199.108.133, 185.199.109.133, 185.199.110.133, ...\n",
            "Connecting to raw.githubusercontent.com (raw.githubusercontent.com)|185.199.108.133|:443... connected.\n",
            "HTTP request sent, awaiting response... 200 OK\n",
            "Length: 122071 (119K) [text/plain]\n",
            "Saving to: ‘dev.txt’\n",
            "\n",
            "dev.txt             100%[===================>] 119.21K  --.-KB/s    in 0.004s  \n",
            "\n",
            "2025-01-01 14:15:52 (29.4 MB/s) - ‘dev.txt’ saved [122071/122071]\n",
            "\n"
          ]
        }
      ]
    },
    {
      "cell_type": "markdown",
      "source": [
        "## Feature Extraction\n",
        "\n",
        "Feature extraction code, how do we get the features we use in training? By default we just use every word."
      ],
      "metadata": {
        "id": "au6GSwmyOO5n"
      }
    },
    {
      "cell_type": "code",
      "execution_count": null,
      "metadata": {
        "id": "jTFd8XPHza2N"
      },
      "outputs": [],
      "source": [
        "def extract_features(x: str) -> dict[str, float]:\n",
        "    features = {}\n",
        "    x_split = x.split(' ')\n",
        "    for x in x_split:\n",
        "        features[x] = features.get(x, 0) + 1.0\n",
        "    return features"
      ]
    },
    {
      "cell_type": "markdown",
      "source": [
        "Also, initialize the feature weights to zero."
      ],
      "metadata": {
        "id": "XpRODZxMOWiO"
      }
    },
    {
      "cell_type": "code",
      "source": [
        "feature_weights = {}"
      ],
      "metadata": {
        "id": "k_GfGFMiOW6u"
      },
      "execution_count": null,
      "outputs": []
    },
    {
      "cell_type": "markdown",
      "source": [
        "## Data Reading\n",
        "\n",
        "Read in the data from the training and dev (or finally test) sets"
      ],
      "metadata": {
        "id": "0dqddog6z5lY"
      }
    },
    {
      "cell_type": "code",
      "source": [
        "def read_xy_data(filename: str) -> tuple[list[str], list[int]]:\n",
        "    x_data = []\n",
        "    y_data = []\n",
        "    with open(filename, 'r') as f:\n",
        "        for line in f:\n",
        "            label, text = line.strip().split(' ||| ')\n",
        "            x_data.append(text)\n",
        "            y_data.append(int(label))\n",
        "    return x_data, y_data"
      ],
      "metadata": {
        "id": "3s6uFooCz4fJ"
      },
      "execution_count": null,
      "outputs": []
    },
    {
      "cell_type": "code",
      "source": [
        "x_train, y_train = read_xy_data('train.txt')\n",
        "x_dev, y_dev = read_xy_data('dev.txt')"
      ],
      "metadata": {
        "id": "TeiAsJlvz9ep"
      },
      "execution_count": null,
      "outputs": []
    },
    {
      "cell_type": "code",
      "source": [
        "print(x_train[0])\n",
        "print(y_train[0])"
      ],
      "metadata": {
        "colab": {
          "base_uri": "https://localhost:8080/"
        },
        "id": "D4rWjl930NtC",
        "outputId": "0c7e7f8c-3af5-4f2c-9d7d-77cbabc08d8b"
      },
      "execution_count": null,
      "outputs": [
        {
          "output_type": "stream",
          "name": "stdout",
          "text": [
            "The Rock is destined to be the 21st Century 's new `` Conan '' and that he 's going to make a splash even greater than Arnold Schwarzenegger , Jean-Claud Van Damme or Steven Segal .\n",
            "1\n"
          ]
        }
      ]
    },
    {
      "cell_type": "markdown",
      "source": [
        "## Inference Code\n",
        "\n",
        "How we run the classifier."
      ],
      "metadata": {
        "id": "AiepngMO0kU-"
      }
    },
    {
      "cell_type": "code",
      "source": [
        "def run_classifier(features: dict[str, float]) -> int:\n",
        "    score = 0\n",
        "    for feat_name, feat_value in features.items():\n",
        "        score = score + feat_value * feature_weights.get(feat_name, 0)\n",
        "    if score > 0:\n",
        "        return 1\n",
        "    elif score < 0:\n",
        "        return -1\n",
        "    else:\n",
        "        return 0"
      ],
      "metadata": {
        "id": "DLjPYH_Q0iss"
      },
      "execution_count": null,
      "outputs": []
    },
    {
      "cell_type": "markdown",
      "source": [
        "## Training Code\n",
        "\n",
        "Learn the weights of the classifier."
      ],
      "metadata": {
        "id": "ChhGdauNOjhQ"
      }
    },
    {
      "cell_type": "code",
      "source": [
        "NUM_EPOCHS = 5\n",
        "for epoch in range(1, NUM_EPOCHS+1):\n",
        "    # Shuffle the order of the data\n",
        "    data_ids = list(range(len(x_train)))\n",
        "    random.shuffle(data_ids)\n",
        "    # Run over all data points\n",
        "    for data_id in tqdm.tqdm(data_ids, desc=f'Epoch {epoch}'):\n",
        "        x = x_train[data_id]\n",
        "        y = y_train[data_id]\n",
        "        # We will skip neutral examples\n",
        "        if y == 0:\n",
        "            continue\n",
        "        # Make a prediction\n",
        "        features = extract_features(x)\n",
        "        predicted_y = run_classifier(features)\n",
        "        # Update the weights if the prediction is wrong\n",
        "        if predicted_y != y:\n",
        "            for feature in features:\n",
        "                feature_weights[feature] = feature_weights.get(feature, 0) + y * features[feature]"
      ],
      "metadata": {
        "colab": {
          "base_uri": "https://localhost:8080/"
        },
        "id": "w2jske9BOjRg",
        "outputId": "59a3dd2d-2c60-4aca-b25a-c7c8909950ec"
      },
      "execution_count": null,
      "outputs": [
        {
          "output_type": "stream",
          "name": "stderr",
          "text": [
            "Epoch 1: 100%|██████████| 8544/8544 [00:00<00:00, 104358.34it/s]\n",
            "Epoch 2: 100%|██████████| 8544/8544 [00:00<00:00, 107657.07it/s]\n",
            "Epoch 3: 100%|██████████| 8544/8544 [00:00<00:00, 107970.73it/s]\n",
            "Epoch 4: 100%|██████████| 8544/8544 [00:00<00:00, 85730.12it/s]\n",
            "Epoch 5: 100%|██████████| 8544/8544 [00:00<00:00, 90734.50it/s]\n"
          ]
        }
      ]
    },
    {
      "cell_type": "code",
      "source": [
        "print(f\"Total features {len(feature_weights.keys())}\")\n",
        "for i,(k,v) in enumerate(feature_weights.items()):\n",
        "  print(f\"{k}\\t\\t{v}\")\n",
        "  if i>20:\n",
        "    break"
      ],
      "metadata": {
        "colab": {
          "base_uri": "https://localhost:8080/"
        },
        "id": "4-O4jaxUPtYI",
        "outputId": "05c62512-a38c-43db-cdc6-837a9d2de93e"
      },
      "execution_count": null,
      "outputs": [
        {
          "output_type": "stream",
          "name": "stdout",
          "text": [
            "Total features 13658\n",
            "It\t\t3.0\n",
            "is\t\t2.0\n",
            "different\t\t5.0\n",
            "from\t\t1.0\n",
            "others\t\t3.0\n",
            "in\t\t-1.0\n",
            "its\t\t-2.0\n",
            "genre\t\t9.0\n",
            "that\t\t4.0\n",
            "it\t\t2.0\n",
            "does\t\t-1.0\n",
            "not\t\t-3.0\n",
            "rely\t\t2.0\n",
            "on\t\t2.0\n",
            "dumb\t\t-7.0\n",
            "gags\t\t-3.0\n",
            ",\t\t1.0\n",
            "anatomical\t\t4.0\n",
            "humor\t\t-6.0\n",
            "or\t\t-4.0\n",
            "character\t\t1.0\n",
            "cliches\t\t-4.0\n"
          ]
        }
      ]
    },
    {
      "cell_type": "markdown",
      "source": [
        "## Evaluation Code\n",
        "\n",
        "How we evaluate the classifier:"
      ],
      "metadata": {
        "id": "pnzOQPnaOpyo"
      }
    },
    {
      "cell_type": "code",
      "source": [
        "def calculate_accuracy(x_data: list[str], y_data: list[int]) -> float:\n",
        "    total_number = 0\n",
        "    correct_number = 0\n",
        "    for x, y in zip(x_data, y_data):\n",
        "        y_pred = run_classifier(extract_features(x))\n",
        "        total_number += 1\n",
        "        if y == y_pred:\n",
        "            correct_number += 1\n",
        "    return correct_number / float(total_number)"
      ],
      "metadata": {
        "id": "WWgzO83o0qDM"
      },
      "execution_count": null,
      "outputs": []
    },
    {
      "cell_type": "code",
      "source": [
        "label_count = {}\n",
        "for y in y_dev:\n",
        "    if y not in label_count:\n",
        "        label_count[y] = 0\n",
        "    label_count[y] += 1\n",
        "print(label_count)"
      ],
      "metadata": {
        "colab": {
          "base_uri": "https://localhost:8080/"
        },
        "id": "zdTZgDya0rMc",
        "outputId": "cd68ecf5-031c-4b84-a61f-fa729fe490c8"
      },
      "execution_count": null,
      "outputs": [
        {
          "output_type": "stream",
          "name": "stdout",
          "text": [
            "{1: 444, 0: 229, -1: 428}\n"
          ]
        }
      ]
    },
    {
      "cell_type": "code",
      "source": [
        "train_accuracy = calculate_accuracy(x_train, y_train)\n",
        "test_accuracy = calculate_accuracy(x_dev, y_dev)\n",
        "print(f'Train accuracy: {train_accuracy}')\n",
        "print(f'Dev/test accuracy: {test_accuracy}')"
      ],
      "metadata": {
        "colab": {
          "base_uri": "https://localhost:8080/"
        },
        "id": "RlijPYzW0tGl",
        "outputId": "878af17c-ff9d-4b3b-ca0a-046c59f34a31"
      },
      "execution_count": null,
      "outputs": [
        {
          "output_type": "stream",
          "name": "stdout",
          "text": [
            "Train accuracy: 0.7833567415730337\n",
            "Dev/test accuracy: 0.584014532243415\n"
          ]
        }
      ]
    },
    {
      "cell_type": "markdown",
      "source": [
        "## Error Analysis\n",
        "\n",
        "An important part of improving any system is figuring out where it goes wrong. The following two functions allow you to randomly observe some mistaken examples, which may help you improve the classifier. Feel free to write more sophisticated methods for error analysis as well."
      ],
      "metadata": {
        "id": "SwcAYHU80x7l"
      }
    },
    {
      "cell_type": "code",
      "source": [
        "def find_errors(x_data, y_data):\n",
        "    error_ids = []\n",
        "    y_preds = []\n",
        "    for i, (x, y) in enumerate(zip(x_data, y_data)):\n",
        "        y_preds.append(run_classifier(extract_features(x)))\n",
        "        if y != y_preds[-1]:\n",
        "            error_ids.append(i)\n",
        "    for _ in range(5):\n",
        "        my_id = random.choice(error_ids)\n",
        "        x, y, y_pred = x_data[my_id], y_data[my_id], y_preds[my_id]\n",
        "        print(f'{x}\\ntrue label: {y}\\npredicted label: {y_pred}\\n')"
      ],
      "metadata": {
        "id": "I7pOe7qN0xtF"
      },
      "execution_count": null,
      "outputs": []
    },
    {
      "cell_type": "code",
      "source": [
        "find_errors(x_dev, y_dev)"
      ],
      "metadata": {
        "colab": {
          "base_uri": "https://localhost:8080/"
        },
        "id": "3QVPOQJA0uqF",
        "outputId": "7a5de4f9-4968-4042-a6ab-bbdec4eed944"
      },
      "execution_count": null,
      "outputs": [
        {
          "output_type": "stream",
          "name": "stdout",
          "text": [
            "A thinly veiled look at different aspects of Chinese life clashing with each other .\n",
            "true label: 0\n",
            "predicted label: 1\n",
            "\n",
            "The movie achieves as great an impact by keeping these thoughts hidden as ... -LRB- Quills -RRB- did by showing them .\n",
            "true label: 1\n",
            "predicted label: 0\n",
            "\n",
            "Scorsese does n't give us a character worth giving a damn about .\n",
            "true label: -1\n",
            "predicted label: 1\n",
            "\n",
            "Even film silliness needs a little gravity , beyond good hair and humping .\n",
            "true label: 0\n",
            "predicted label: -1\n",
            "\n",
            "It 's difficult to imagine the process that produced such a script , but here 's guessing that spray cheese and underarm noises played a crucial role .\n",
            "true label: -1\n",
            "predicted label: 1\n",
            "\n"
          ]
        }
      ]
    }
  ]
}