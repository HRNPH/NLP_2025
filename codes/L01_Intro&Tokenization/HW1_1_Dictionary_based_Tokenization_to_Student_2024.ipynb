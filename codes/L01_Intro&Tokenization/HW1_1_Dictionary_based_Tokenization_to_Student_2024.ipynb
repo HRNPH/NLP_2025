{
  "cells": [
    {
      "cell_type": "markdown",
      "metadata": {
        "id": "7EdbVSmE87En"
      },
      "source": [
        "# HW1.1: Dictionary-based Tokenization\n"
      ]
    },
    {
      "cell_type": "markdown",
      "metadata": {
        "id": "pJJLm1Ub87Et"
      },
      "source": [
        "In this exercise, you are to implement a dictionary-based word segmentation algorithm. There are two Python functions that you need to complete:\n",
        "<br>\n",
        "* maximal_matching\n",
        "* backtrack\n",
        "</br>\n",
        "\n",
        "Also, you have to find how to use word_tokenize() in PythaiNLP along with customer_dict by yourselves."
      ]
    },
    {
      "cell_type": "code",
      "execution_count": 8,
      "metadata": {
        "id": "yXxPBOcNLXfm"
      },
      "outputs": [
        {
          "name": "stdout",
          "output_type": "stream",
          "text": [
            "Requirement already satisfied: pythainlp in /Users/hirunkulphimsiri/.pyenv/versions/3.11.8/lib/python3.11/site-packages (5.0.5)\n",
            "Requirement already satisfied: requests>=2.22.0 in /Users/hirunkulphimsiri/.pyenv/versions/3.11.8/lib/python3.11/site-packages (from pythainlp) (2.32.3)\n",
            "Requirement already satisfied: charset-normalizer<4,>=2 in /Users/hirunkulphimsiri/.pyenv/versions/3.11.8/lib/python3.11/site-packages (from requests>=2.22.0->pythainlp) (3.4.1)\n",
            "Requirement already satisfied: idna<4,>=2.5 in /Users/hirunkulphimsiri/.pyenv/versions/3.11.8/lib/python3.11/site-packages (from requests>=2.22.0->pythainlp) (3.10)\n",
            "Requirement already satisfied: urllib3<3,>=1.21.1 in /Users/hirunkulphimsiri/.pyenv/versions/3.11.8/lib/python3.11/site-packages (from requests>=2.22.0->pythainlp) (2.3.0)\n",
            "Requirement already satisfied: certifi>=2017.4.17 in /Users/hirunkulphimsiri/.pyenv/versions/3.11.8/lib/python3.11/site-packages (from requests>=2.22.0->pythainlp) (2024.12.14)\n",
            "\n",
            "\u001b[1m[\u001b[0m\u001b[34;49mnotice\u001b[0m\u001b[1;39;49m]\u001b[0m\u001b[39;49m A new release of pip is available: \u001b[0m\u001b[31;49m24.0\u001b[0m\u001b[39;49m -> \u001b[0m\u001b[32;49m24.3.1\u001b[0m\n",
            "\u001b[1m[\u001b[0m\u001b[34;49mnotice\u001b[0m\u001b[1;39;49m]\u001b[0m\u001b[39;49m To update, run: \u001b[0m\u001b[32;49mpip install --upgrade pip\u001b[0m\n",
            "Requirement already satisfied: marisa_trie in /Users/hirunkulphimsiri/.pyenv/versions/3.11.8/lib/python3.11/site-packages (1.2.1)\n",
            "Requirement already satisfied: setuptools in /Users/hirunkulphimsiri/.pyenv/versions/3.11.8/lib/python3.11/site-packages (from marisa_trie) (75.7.0)\n",
            "\n",
            "\u001b[1m[\u001b[0m\u001b[34;49mnotice\u001b[0m\u001b[1;39;49m]\u001b[0m\u001b[39;49m A new release of pip is available: \u001b[0m\u001b[31;49m24.0\u001b[0m\u001b[39;49m -> \u001b[0m\u001b[32;49m24.3.1\u001b[0m\n",
            "\u001b[1m[\u001b[0m\u001b[34;49mnotice\u001b[0m\u001b[1;39;49m]\u001b[0m\u001b[39;49m To update, run: \u001b[0m\u001b[32;49mpip install --upgrade pip\u001b[0m\n"
          ]
        }
      ],
      "source": [
        "!uv add pythainlp\n",
        "!uv add marisa_trie\n",
        "from pythainlp.tokenize import word_tokenize\n",
        "from pythainlp.corpus import get_corpus\n",
        "from marisa_trie import Trie"
      ]
    },
    {
      "cell_type": "markdown",
      "metadata": {
        "id": "VLGgO8PrLSz6"
      },
      "source": [
        "## Part 1) Maximal Matching from PythaiNLP"
      ]
    },
    {
      "cell_type": "markdown",
      "metadata": {
        "id": "xzs0R06q87Et"
      },
      "source": [
        "### Create a toy dictionary to test the algorithm\n",
        "\n",
        "This is based on the example shown in the lecture.\n",
        "You will tokenize the following text string: \"ไปหามเหสี!\"\n",
        "The toy dictionary provided in this exercise includes all the charaters, syllables, and words that appear that the text string."
      ]
    },
    {
      "cell_type": "code",
      "execution_count": 39,
      "metadata": {
        "id": "pq3W4p3z87Ev"
      },
      "outputs": [],
      "source": [
        "thai_vocab = [\"ไ\",\"ป\",\"ห\",\"า\",\"ม\",\"เ\",\"ห\",\"ส\",\"ี\",\"ไป\",\"หา\",\"หาม\",\"เห\",\"สี\",\"มเหสี\",\"!\"]\n",
        "input_text = \"ไปหามเหสี!\""
      ]
    },
    {
      "cell_type": "markdown",
      "metadata": {
        "id": "LrZrzQoXLeUX"
      },
      "source": [
        "### Example Dictionary\n",
        "\n",
        "Write the `word_tokenize` function of PyThaiNLP with a custom dictionary above and using:\n",
        "1. Longest matching algorithm `longest`\n",
        "2. Maximal-matching algorithm `newmm`\n",
        "\n",
        "Study `word_tokenize()` from PythaiNLP in the link below. Note: `custom_dict` will accept Trie structures as `Trie(iterable)`.\n",
        "\n",
        "https://pythainlp.org/docs/5.0/api/tokenize.html#pythainlp.tokenize.word_tokenize"
      ]
    },
    {
      "cell_type": "code",
      "execution_count": 40,
      "metadata": {
        "id": "IhCPz25GIbJv"
      },
      "outputs": [
        {
          "name": "stdout",
          "output_type": "stream",
          "text": [
            "longest\n",
            "['ไป', 'หาม', 'เห', 'สี', '!']\n",
            "newmm\n",
            "['ไป', 'หา', 'มเหสี', '!']\n"
          ]
        }
      ],
      "source": [
        "####FILL CODE HERE####\n",
        "print(\"longest\")\n",
        "print(word_tokenize(input_text, Trie(thai_vocab), engine='longest'))\n",
        "print(\"newmm\")\n",
        "print(word_tokenize(input_text, Trie(thai_vocab), engine='newmm'))\n",
        "######################"
      ]
    },
    {
      "cell_type": "markdown",
      "metadata": {
        "id": "DF5Pme7CK3YF"
      },
      "source": [
        "## Part 2) Maximal Matching from Scratch"
      ]
    },
    {
      "cell_type": "markdown",
      "metadata": {
        "id": "ZornooGF87Ew"
      },
      "source": [
        "### Maximal matching\n",
        "Complete the maximal matching function below with dynamic programming to tokenize the input text and output the 2D numerical array shown in class."
      ]
    },
    {
      "cell_type": "code",
      "execution_count": 47,
      "metadata": {
        "id": "Ao4d2E3387Ew"
      },
      "outputs": [
        {
          "data": {
            "text/plain": [
              "[[1, 1, inf, inf, inf, inf, inf, inf, inf, inf],\n",
              " [None, 2, inf, inf, inf, inf, inf, inf, inf, inf],\n",
              " [None, None, 2, 2, 2, inf, inf, inf, inf, inf],\n",
              " [None, None, None, 3, inf, inf, inf, inf, inf, inf],\n",
              " [None, None, None, None, 3, inf, inf, inf, 3, inf],\n",
              " [None, None, None, None, None, 3, 3, inf, inf, inf],\n",
              " [None, None, None, None, None, None, 4, inf, inf, inf],\n",
              " [None, None, None, None, None, None, None, 4, 4, inf],\n",
              " [None, None, None, None, None, None, None, None, 5, inf],\n",
              " [None, None, None, None, None, None, None, None, None, 4]]"
            ]
          },
          "execution_count": 47,
          "metadata": {},
          "output_type": "execute_result"
        }
      ],
      "source": [
        "from math import inf #infinity\n",
        "trie = Trie(thai_vocab)\n",
        "def maximal_matching(c):\n",
        "    #Initialize an empty 2D list\n",
        "    d = [[None]*len(c) for _ in range(len(c))]\n",
        "\n",
        "    ####FILL CODE HERE####\n",
        "    n = len(c)\n",
        "    for j in range(n):\n",
        "        if c[: j+1] in thai_vocab:\n",
        "            d[0][j] = 1\n",
        "        else:\n",
        "            d[0][j] = inf\n",
        "    \n",
        "    for i in range(1, n):\n",
        "        for j in range(i, n):\n",
        "            substring = c[i : j+1]\n",
        "            if substring in thai_vocab:\n",
        "                possible_vals = []\n",
        "                for k in range(i):\n",
        "                    if d[k][i-1] is not None and d[k][i-1] != inf:\n",
        "                        possible_vals.append(d[k][i-1])\n",
        "                \n",
        "                if possible_vals:\n",
        "                    d[i][j] = 1 + min(possible_vals)\n",
        "                else:\n",
        "                    d[i][j] = inf\n",
        "            else:\n",
        "                d[i][j] = inf\n",
        "    ######################\n",
        "\n",
        "    return d\n",
        "\n",
        "\n",
        "maximal_matching(input_text)"
      ]
    },
    {
      "cell_type": "markdown",
      "metadata": {
        "id": "w7vBXfjM87Ew"
      },
      "source": [
        "### Backtracking\n",
        "Complete the backtracking function below to find the tokenzied words.\n",
        "It should return a list containing a pair of the beginning position and the ending position of each word.\n",
        "In this example, it should return:\n",
        "<br>\n",
        "[(0, 1),(2, 3),(4, 8),(9, 9)]\n",
        "<br>\n",
        "#### Each pair contains the position of each word as follows:\n",
        "(0, 1) ไป\n",
        "<br>\n",
        "(2, 3) หา\n",
        "<br>\n",
        "(4, 8) มเหสี\n",
        "<br>\n",
        "(9, 9) !\n"
      ]
    },
    {
      "cell_type": "code",
      "execution_count": 51,
      "metadata": {
        "id": "SxNFf1IE87Ex"
      },
      "outputs": [
        {
          "name": "stdout",
          "output_type": "stream",
          "text": [
            "0 1 ไป\n",
            "2 3 หา\n",
            "4 8 มเหสี\n",
            "9 9 !\n"
          ]
        }
      ],
      "source": [
        "def backtrack(d):\n",
        "    eow = len(d)-1 # End of Word position\n",
        "    word_pos = [] # Word position\n",
        "    ####FILL CODE HERE####\n",
        "    while eow >= 0:\n",
        "        best_row = None\n",
        "        best_val = float('inf')\n",
        "        # Find the best row\n",
        "        for i in range(eow, -1, -1):\n",
        "            val = d[i][eow]\n",
        "            if val is not None and val < best_val:\n",
        "                best_val = val\n",
        "                best_row = i\n",
        "\n",
        "        # Record the word position\n",
        "        word_pos.append((best_row, eow))\n",
        "        # Move to the next end of word\n",
        "        eow = best_row - 1\n",
        "     ######################\n",
        "    word_pos.reverse()\n",
        "    return word_pos\n",
        "\n",
        "# -- test\n",
        "rs = backtrack(maximal_matching(input_text))\n",
        "# Get word\n",
        "for s,e in rs:\n",
        "    print(s,e, input_text[s:e+1])"
      ]
    },
    {
      "cell_type": "markdown",
      "metadata": {
        "id": "q0MJkKsh87Ex"
      },
      "source": [
        "### Test your maximal matching algorithm on a toy dictionary\n",
        "\n",
        "Expected output:\n",
        "\n",
        "[1, 1, inf, inf, inf, inf, inf, inf, inf, inf] ไ\n",
        "<br>\n",
        "[None, 2, inf, inf, inf, inf, inf, inf, inf, inf] ป\n",
        "<br>\n",
        "[None, None, 2, 2, 2, inf, inf, inf, inf, inf] ห\n",
        "<br>\n",
        "[None, None, None, 3, inf, inf, inf, inf, inf, inf] า\n",
        "<br>\n",
        "[None, None, None, None, 3, inf, inf, inf, 3, inf] ม\n",
        "<br>\n",
        "[None, None, None, None, None, 3, 3, inf, inf, inf] เ\n",
        "<br>\n",
        "[None, None, None, None, None, None, 4, inf, inf, inf] ห\n",
        "<br>\n",
        "[None, None, None, None, None, None, None, 4, 4, inf] ส\n",
        "<br>\n",
        "[None, None, None, None, None, None, None, None, 5, inf] ี\n",
        "<br>\n",
        "[None, None, None, None, None, None, None, None, None, 4] !\n",
        "<br>"
      ]
    },
    {
      "cell_type": "code",
      "execution_count": 52,
      "metadata": {
        "id": "tsmVQIKS87Ey"
      },
      "outputs": [
        {
          "name": "stdout",
          "output_type": "stream",
          "text": [
            "[1, 1, inf, inf, inf, inf, inf, inf, inf, inf] ไ\n",
            "[None, 2, inf, inf, inf, inf, inf, inf, inf, inf] ป\n",
            "[None, None, 2, 2, 2, inf, inf, inf, inf, inf] ห\n",
            "[None, None, None, 3, inf, inf, inf, inf, inf, inf] า\n",
            "[None, None, None, None, 3, inf, inf, inf, 3, inf] ม\n",
            "[None, None, None, None, None, 3, 3, inf, inf, inf] เ\n",
            "[None, None, None, None, None, None, 4, inf, inf, inf] ห\n",
            "[None, None, None, None, None, None, None, 4, 4, inf] ส\n",
            "[None, None, None, None, None, None, None, None, 5, inf] ี\n",
            "[None, None, None, None, None, None, None, None, None, 4] !\n"
          ]
        }
      ],
      "source": [
        "input_text = \"ไปหามเหสี!\"\n",
        "out = maximal_matching(input_text)\n",
        "for i in range(len(out)):\n",
        "    print(out[i],input_text[i])"
      ]
    },
    {
      "cell_type": "markdown",
      "metadata": {
        "id": "IVhCMM4d87Ey"
      },
      "source": [
        "### Test your backtracking algorithm on a toy dictionary\n",
        "Compare your results with the result from PyThaiNLP `newmm`.\n",
        "\n",
        "Expected output:\n",
        "<br>\n",
        "ไป|หา|มเหสี|!"
      ]
    },
    {
      "cell_type": "code",
      "execution_count": 60,
      "metadata": {
        "id": "6Hurbm1f87Ey"
      },
      "outputs": [
        {
          "name": "stdout",
          "output_type": "stream",
          "text": [
            "ไป|หา|หมามเ|ห\n",
            "['ไป', 'หา', 'หมามเ', 'ห']\n"
          ]
        }
      ],
      "source": [
        "def print_tokenized_text(d, input_text):\n",
        "    tokenized_text=[]\n",
        "    for pos in backtrack(d):\n",
        "        #print(pos)\n",
        "        tokenized_text.append(input_text[pos[0]:pos[1]+1])\n",
        "\n",
        "    print(\"|\".join(tokenized_text))\n",
        "\n",
        "def get_list_of_words(d, input_text):\n",
        "    tokenized_text=[]\n",
        "    for pos in backtrack(d):\n",
        "        tokenized_text.append(input_text[pos[0]:pos[1]+1])\n",
        "    return tokenized_text\n",
        "\n",
        "print_tokenized_text(out,input_text)\n",
        "print(get_list_of_words(out,input_text))"
      ]
    },
    {
      "cell_type": "markdown",
      "metadata": {
        "id": "1mZ226USPICM"
      },
      "source": [
        "### <font color=blue>Question 1</font>\n",
        "Using your maximal matching code with the toy dictionary, how many “words” did you get when tokenizing this input text.\n",
        "\n",
        "Answer this question in question #1 in MyCourseVille. Also print out the answer in this notebook as well."
      ]
    },
    {
      "cell_type": "code",
      "execution_count": 61,
      "metadata": {
        "id": "C4c6gX4ySfUh"
      },
      "outputs": [
        {
          "name": "stdout",
          "output_type": "stream",
          "text": [
            "10\n",
            "ไป|หา|ห|ม|า|มเหสี|ม|า|หาม|!\n"
          ]
        }
      ],
      "source": [
        "input_text = \"ไปหาหมามเหสีมาหาม!\"\n",
        "low = get_list_of_words(maximal_matching(input_text),input_text)\n",
        "print(len(low))\n",
        "print_tokenized_text(maximal_matching(input_text),input_text)"
      ]
    },
    {
      "cell_type": "markdown",
      "metadata": {
        "id": "57rP9cTU87Ez"
      },
      "source": [
        "## Part 3) Your Maximal Matching with Real Dictionary"
      ]
    },
    {
      "cell_type": "markdown",
      "metadata": {
        "id": "V306h7AG87Ez"
      },
      "source": [
        "For UNIX-based OS users, the following cell will download a dictionary (it's just a list of thai words). Alternatively, you can download it from this link: https://raw.githubusercontent.com/PyThaiNLP/pythainlp/dev/pythainlp/corpus/words_th.txt"
      ]
    },
    {
      "cell_type": "code",
      "execution_count": 62,
      "metadata": {
        "id": "EFVR9LO187Ez",
        "scrolled": true
      },
      "outputs": [
        {
          "name": "stdout",
          "output_type": "stream",
          "text": [
            "--2025-01-19 17:52:58--  https://raw.githubusercontent.com/PyThaiNLP/pythainlp/dev/pythainlp/corpus/words_th.txt\n",
            "Resolving raw.githubusercontent.com (raw.githubusercontent.com)... 185.199.108.133, 185.199.109.133, 185.199.111.133, ...\n",
            "Connecting to raw.githubusercontent.com (raw.githubusercontent.com)|185.199.108.133|:443... connected.\n",
            "HTTP request sent, awaiting response... 200 OK\n",
            "Length: 1519661 (1.4M) [text/plain]\n",
            "Saving to: ‘words_th.txt’\n",
            "\n",
            "words_th.txt        100%[===================>]   1.45M  5.11MB/s    in 0.3s    \n",
            "\n",
            "2025-01-19 17:52:59 (5.11 MB/s) - ‘words_th.txt’ saved [1519661/1519661]\n",
            "\n"
          ]
        }
      ],
      "source": [
        "!wget https://raw.githubusercontent.com/PyThaiNLP/pythainlp/dev/pythainlp/corpus/words_th.txt"
      ]
    },
    {
      "cell_type": "code",
      "execution_count": 63,
      "metadata": {
        "id": "nqIQzVgE87E0"
      },
      "outputs": [
        {
          "name": "stdout",
          "output_type": "stream",
          "text": [
            "Vocab size: 62080\n",
            "['ก ข ไม่กระดิกหู', 'ก.', 'ก.ค.', 'ก.ต.', 'ก.ป.ส.', 'ก.พ.', 'ก.พ.ด.', 'ก.ม.', 'ก.ย.', 'ก.ย']\n"
          ]
        }
      ],
      "source": [
        "with open(\"words_th.txt\",encoding='utf-8-sig') as f:\n",
        "    thai_vocab = f.read().splitlines()\n",
        "print(\"Vocab size:\", len(thai_vocab))\n",
        "print(thai_vocab[:10])\n",
        "\n",
        "thai_vocab.extend([\"ๆ\",\"!\"])"
      ]
    },
    {
      "cell_type": "markdown",
      "metadata": {
        "id": "Kpjwzw1w87E0"
      },
      "source": [
        "### Part 3.1) The output of **YOUR** maximal matching algoithm on the new dictionary\n",
        "Expected output:\n",
        "<br>\n",
        "[inf, 1, inf, 1, inf, inf, inf, inf, inf] ไ\n",
        "<br>\n",
        "[None, inf, inf, inf, inf, inf, inf, inf, inf] ป\n",
        "<br>\n",
        "[None, None, inf, 2, 2, inf, inf, inf, inf] ห\n",
        "<br>\n",
        "[None, None, None, inf, inf, inf, inf, inf, inf] า\n",
        "<br>\n",
        "[None, None, None, None, inf, inf, inf, inf, 2] ม\n",
        "<br>\n",
        "[None, None, None, None, None, inf, 3, inf, inf] เ\n",
        "<br>\n",
        "[None, None, None, None, None, None, inf, inf, inf] ห\n",
        "<br>\n",
        "[None, None, None, None, None, None, None, inf, 4] ส\n",
        "<br>\n",
        "[None, None, None, None, None, None, None, None, inf] ี\n",
        "\n",
        "### Expected tokenized text\n",
        "ไปหา|มเหสี\n",
        "\n",
        "_Question: Why are the resulting tokens different?_"
      ]
    },
    {
      "cell_type": "code",
      "execution_count": 64,
      "metadata": {
        "id": "lYD5ChIS87E0"
      },
      "outputs": [
        {
          "name": "stdout",
          "output_type": "stream",
          "text": [
            "[inf, 1, inf, 1, inf, inf, inf, inf, inf] ไ\n",
            "[None, inf, inf, inf, inf, inf, inf, inf, inf] ป\n",
            "[None, None, inf, 2, 2, inf, inf, inf, inf] ห\n",
            "[None, None, None, inf, inf, inf, inf, inf, inf] า\n",
            "[None, None, None, None, inf, inf, inf, inf, 2] ม\n",
            "[None, None, None, None, None, inf, 3, inf, inf] เ\n",
            "[None, None, None, None, None, None, inf, inf, inf] ห\n",
            "[None, None, None, None, None, None, None, inf, 4] ส\n",
            "[None, None, None, None, None, None, None, None, inf] ี\n",
            "ไปหา|มเหสี\n"
          ]
        }
      ],
      "source": [
        "input_text = \"ไปหามเหสี\"\n",
        "out = maximal_matching(input_text)\n",
        "for i in range(len(out)):\n",
        "    print(out[i],input_text[i])\n",
        "\n",
        "print_tokenized_text(out,input_text)"
      ]
    },
    {
      "cell_type": "markdown",
      "metadata": {
        "id": "ajiIkN-SQKCq"
      },
      "source": [
        "### <font color=blue>Question 2</font>\n",
        "Using your maximal matching algorithm and the actual Thai dictionary, how many “words” did you get when tokenizing this input text.\n",
        "\n",
        "Answer this question in question #2 in MyCourseVille. Also print out the answer in this notebook as well."
      ]
    },
    {
      "cell_type": "code",
      "execution_count": 67,
      "metadata": {
        "id": "G5Kd9_z-QV9D"
      },
      "outputs": [
        {
          "name": "stdout",
          "output_type": "stream",
          "text": [
            "26\n",
            "ประเทศ|ไทย|รวม|เลือดเนื้อ|ชาติ|เชื้อ|ไทย|เป็น|ประชา|รัฐ|ไผท|ของ|ไทย|ทุก|ส่วน|อยู่|ดำรง|คงไว้|ได้|ทั้งมวล|ด้วย|ไทย|ล้วน|หมาย|รัก|สามัคคี\n"
          ]
        }
      ],
      "source": [
        "input_text = \"ประเทศไทยรวมเลือดเนื้อชาติเชื้อไทยเป็นประชารัฐไผทของไทยทุกส่วนอยู่ดำรงคงไว้ได้ทั้งมวลด้วยไทยล้วนหมายรักสามัคคี\"\n",
        "\n",
        "print(len(get_list_of_words(maximal_matching(input_text),input_text)))\n",
        "print_tokenized_text(maximal_matching(input_text),input_text)"
      ]
    },
    {
      "cell_type": "markdown",
      "metadata": {
        "id": "hqtT1ISUHY_I"
      },
      "source": [
        "### Part 3.2) Use PyThaiNLP `word_tokenize` with custom dictionary\n",
        "\n",
        "Try tokenizing the following text with `word_tokenize` in `newmm` algorithm and default real dictionary."
      ]
    },
    {
      "cell_type": "code",
      "execution_count": 68,
      "metadata": {
        "id": "goQE5gFUL4KO"
      },
      "outputs": [
        {
          "name": "stdout",
          "output_type": "stream",
          "text": [
            "['นัด', 'กินกัน', 'ตอน', 'ไหน', 'ก็', 'ได้ที่', 'สามย่าน', 'มิตร', 'ทาวน์']\n"
          ]
        }
      ],
      "source": [
        "text='นัดกินกันตอนไหนก็ได้ที่สามย่านมิตรทาวน์'\n",
        "\n",
        "####FILL CODE HERE####\n",
        "tokenized = word_tokenize(text, Trie(thai_vocab), engine='newmm')\n",
        "print(tokenized)\n",
        "######################"
      ]
    },
    {
      "cell_type": "markdown",
      "metadata": {
        "id": "2SlX5cEBMHPd"
      },
      "source": [
        "Add 'สามย่านมิตรทาวน์' into dictionary and then tokenize again"
      ]
    },
    {
      "cell_type": "code",
      "execution_count": 70,
      "metadata": {
        "id": "b4V9TqFaMPAj"
      },
      "outputs": [
        {
          "name": "stdout",
          "output_type": "stream",
          "text": [
            "['นัด', 'กินกัน', 'ตอน', 'ไหน', 'ก็', 'ได้ที่', 'สามย่านมิตรทาวน์']\n"
          ]
        }
      ],
      "source": [
        "####FILL CODE HERE####\n",
        "print(word_tokenize(text, Trie(thai_vocab + [\"สามย่านมิตรทาวน์\"]), engine='newmm'))\n",
        "######################"
      ]
    },
    {
      "cell_type": "markdown",
      "metadata": {
        "id": "y1Lww7VVSmYj"
      },
      "source": [
        "### <font color=blue>Question 3</font>\n",
        "Using the code from part three only, how many “words” did you get when tokenizing this input text **after adding the new vocabs**.\n",
        "\n",
        "Answer this question in question #3 in MyCourseVille. Also print out the answer in this notebook as well."
      ]
    },
    {
      "cell_type": "code",
      "execution_count": 72,
      "metadata": {
        "id": "E_JHjViLajJi"
      },
      "outputs": [
        {
          "name": "stdout",
          "output_type": "stream",
          "text": [
            "51\n",
            "['อ๋อ', 'ก็', 'ว่า', 'จะ', 'ไป', 'เรียน', 'แต่งหน้า', 'นั่งสมาธิ', 'ดำน้ำ', 'ปลูก', 'ปะการัง', 'ทำอาหาร', 'นวด', 'สปา', 'ปลูกป่า', 'ดำนา', 'ดู', 'ดิสนีย์ออนไอซ์', 'แรลลี่', 'ตีกอล์ฟ', 'ล่องเรือ', 'ส่องสัตว์', 'ช้อปปิ้ง', 'ดู', 'งิ้ว', 'ดู', 'ละครเวที', 'ดู', 'คอนเสิร์ต', 'ดินเนอร์', 'ทำ', 'ขนม', 'จัด', 'ดอกไม้', 'เที่ยว', 'ตลาดน้ำ', 'เรียน', 'ถ่ายรูป', 'ดู', 'กายกรรม', 'ชม', 'เมือง', 'เก่า', 'เข้า', 'สัมมนา', 'ทัวร์', 'ธรรมมะ', 'เรียน', 'เต้น', 'แล้วก็', 'ร้องเพลง']\n"
          ]
        }
      ],
      "source": [
        "new_vocab = [\"ดิสนีย์ออนไอซ์\", \"ตีกอล์ฟ\", \"ธรรมมะ\"]\n",
        "input_text = \"อ๋อก็ว่าจะไปเรียนแต่งหน้านั่งสมาธิดำน้ำปลูกปะการังทำอาหารนวดสปาปลูกป่าดำนาดูดิสนีย์ออนไอซ์แรลลี่ตีกอล์ฟล่องเรือส่องสัตว์ช้อปปิ้งดูงิ้วดูละครเวทีดูคอนเสิร์ตดินเนอร์ทำขนมจัดดอกไม้เที่ยวตลาดน้ำเรียนถ่ายรูปดูกายกรรมชมเมืองเก่าเข้าสัมมนาทัวร์ธรรมมะเรียนเต้นแล้วก็ร้องเพลง\"\n",
        "\n",
        "rs = word_tokenize(input_text, Trie(thai_vocab + new_vocab), engine='newmm')\n",
        "print(len(rs))\n",
        "print(rs)"
      ]
    },
    {
      "cell_type": "markdown",
      "metadata": {
        "id": "zKZEBhpQTeiA"
      },
      "source": [
        "## Part 4) Use maximal matching on real dataset\n",
        "\n",
        "To complete this exercise, we will use the maximal matching algorithm on NECTEC's BEST corpus.\n",
        "\n",
        "The corpus has a structure of characters with target whether it's a beginning of a word (True/False)."
      ]
    },
    {
      "cell_type": "code",
      "execution_count": 74,
      "metadata": {
        "id": "mdw7k8CzUSK4"
      },
      "outputs": [
        {
          "name": "stdout",
          "output_type": "stream",
          "text": [
            "\u001b[2K\u001b[2mResolved \u001b[1m78 packages\u001b[0m \u001b[2min 1.37s\u001b[0m\u001b[0m                                        \u001b[0m\n",
            "\u001b[2K\u001b[37m⠙\u001b[0m \u001b[2mPreparing packages...\u001b[0m (0/4)                                                   \n",
            "\u001b[2K\u001b[1A\u001b[37m⠙\u001b[0m \u001b[2mPreparing packages...\u001b[0m (0/4)----\u001b[0m\u001b[0m     0 B/36.19 kB                      \u001b[1A\n",
            "\u001b[2K\u001b[1A\u001b[37m⠙\u001b[0m \u001b[2mPreparing packages...\u001b[0m (0/4)----\u001b[0m\u001b[0m 4.13 kB/36.19 kB                      \u001b[1A\n",
            "\u001b[2K\u001b[1A\u001b[37m⠙\u001b[0m \u001b[2mPreparing packages...\u001b[0m (0/4)----\u001b[0m\u001b[0m 8.27 kB/36.19 kB                      \u001b[1A\n",
            "\u001b[2K\u001b[1A\u001b[37m⠙\u001b[0m \u001b[2mPreparing packages...\u001b[0m (0/4)----\u001b[0m\u001b[0m 12.40 kB/36.19 kB                     \u001b[1A\n",
            "\u001b[2mpysocks   \u001b[0m \u001b[32m\u001b[2m------------------------------\u001b[0m\u001b[0m     0 B/16.73 kB\n",
            "\u001b[2K\u001b[2A\u001b[37m⠙\u001b[0m \u001b[2mPreparing packages...\u001b[0m (0/4)----\u001b[0m\u001b[0m 12.40 kB/36.19 kB                     \u001b[2A\n",
            "\u001b[2mpysocks   \u001b[0m \u001b[32m-----\u001b[2m-------------------------\u001b[0m\u001b[0m 2.76 kB/16.73 kB\n",
            "\u001b[2K\u001b[2A\u001b[37m⠙\u001b[0m \u001b[2mPreparing packages...\u001b[0m (0/4)----\u001b[0m\u001b[0m 12.40 kB/36.19 kB                     \u001b[2A\n",
            "\u001b[2mpysocks   \u001b[0m \u001b[32m--------\u001b[2m----------------------\u001b[0m\u001b[0m 4.13 kB/16.73 kB\n",
            "\u001b[2K\u001b[2A\u001b[37m⠙\u001b[0m \u001b[2mPreparing packages...\u001b[0m (0/4)----\u001b[0m\u001b[0m 12.40 kB/36.19 kB                     \u001b[2A\n",
            "\u001b[2mpysocks   \u001b[0m \u001b[32m-------------\u001b[2m-----------------\u001b[0m\u001b[0m 6.89 kB/16.73 kB\n",
            "\u001b[2K\u001b[2A\u001b[37m⠙\u001b[0m \u001b[2mPreparing packages...\u001b[0m (0/4)----\u001b[0m\u001b[0m 12.40 kB/36.19 kB                     \u001b[2A\n",
            "\u001b[2mpysocks   \u001b[0m \u001b[32m---------------\u001b[2m---------------\u001b[0m\u001b[0m 8.27 kB/16.73 kB\n",
            "\u001b[2K\u001b[2A\u001b[37m⠙\u001b[0m \u001b[2mPreparing packages...\u001b[0m (0/4)----\u001b[0m\u001b[0m 12.40 kB/36.19 kB                     \u001b[2A\n",
            "\u001b[2mpysocks   \u001b[0m \u001b[32m---------------\u001b[2m---------------\u001b[0m\u001b[0m 8.27 kB/16.73 kB\n",
            "\u001b[2K\u001b[2A\u001b[37m⠙\u001b[0m \u001b[2mPreparing packages...\u001b[0m (0/4)----\u001b[0m\u001b[0m 13.78 kB/36.19 kB                     \u001b[2A\n",
            "\u001b[2mpysocks   \u001b[0m \u001b[32m---------------\u001b[2m---------------\u001b[0m\u001b[0m 8.27 kB/16.73 kB\n",
            "\u001b[2K\u001b[2A\u001b[37m⠙\u001b[0m \u001b[2mPreparing packages...\u001b[0m (0/4)----\u001b[0m\u001b[0m 18.00 kB/36.19 kB                     \u001b[2A\n",
            "\u001b[2mpysocks   \u001b[0m \u001b[32m---------------\u001b[2m---------------\u001b[0m\u001b[0m 8.27 kB/16.73 kB\n",
            "\u001b[2mgdown     \u001b[0m \u001b[32m\u001b[2m------------------------------\u001b[0m\u001b[0m     0 B/18.23 kB\n",
            "\u001b[2K\u001b[3A\u001b[37m⠙\u001b[0m \u001b[2mPreparing packages...\u001b[0m (0/4)----\u001b[0m\u001b[0m 18.00 kB/36.19 kB                     \u001b[3A\n",
            "\u001b[2mpysocks   \u001b[0m \u001b[32m------------------\u001b[2m------------\u001b[0m\u001b[0m 9.65 kB/16.73 kB\n",
            "\u001b[2mgdown     \u001b[0m \u001b[32m\u001b[2m------------------------------\u001b[0m\u001b[0m     0 B/18.23 kB\n",
            "\u001b[2K\u001b[3A\u001b[37m⠙\u001b[0m \u001b[2mPreparing packages...\u001b[0m (0/4)----\u001b[0m\u001b[0m 18.00 kB/36.19 kB                     \u001b[3A\n",
            "\u001b[2mpysocks   \u001b[0m \u001b[32m------------------\u001b[2m------------\u001b[0m\u001b[0m 9.65 kB/16.73 kB\n",
            "\u001b[2mgdown     \u001b[0m \u001b[32m-----\u001b[2m-------------------------\u001b[0m\u001b[0m 2.76 kB/18.23 kB\n",
            "\u001b[2K\u001b[3A\u001b[37m⠙\u001b[0m \u001b[2mPreparing packages...\u001b[0m (0/4)----\u001b[0m\u001b[0m 18.00 kB/36.19 kB                     \u001b[3A\n",
            "\u001b[2mpysocks   \u001b[0m \u001b[32m------------------\u001b[2m------------\u001b[0m\u001b[0m 9.65 kB/16.73 kB\n",
            "\u001b[2mgdown     \u001b[0m \u001b[32m-----\u001b[2m-------------------------\u001b[0m\u001b[0m 2.76 kB/18.23 kB\n",
            "\u001b[2K\u001b[3A\u001b[37m⠙\u001b[0m \u001b[2mPreparing packages...\u001b[0m (0/4)----\u001b[0m\u001b[0m 22.13 kB/36.19 kB                     \u001b[3A\n",
            "\u001b[2mpysocks   \u001b[0m \u001b[32m-----------------------\u001b[2m-------\u001b[0m\u001b[0m 12.40 kB/16.73 kB\n",
            "\u001b[2mgdown     \u001b[0m \u001b[32m-----\u001b[2m-------------------------\u001b[0m\u001b[0m 2.76 kB/18.23 kB\n",
            "\u001b[2K\u001b[3A\u001b[37m⠙\u001b[0m \u001b[2mPreparing packages...\u001b[0m (0/4)----\u001b[0m\u001b[0m 22.13 kB/36.19 kB                     \u001b[3A\n",
            "\u001b[2mpysocks   \u001b[0m \u001b[32m------------------------------\u001b[2m\u001b[0m\u001b[0m 16.73 kB/16.73 kB\n",
            "\u001b[2mgdown     \u001b[0m \u001b[32m-----\u001b[2m-------------------------\u001b[0m\u001b[0m 2.76 kB/18.23 kB\n",
            "\u001b[2K\u001b[3A\u001b[37m⠙\u001b[0m \u001b[2mPreparing packages...\u001b[0m (0/4)----\u001b[0m\u001b[0m 22.13 kB/36.19 kB                     \u001b[3A\n",
            "\u001b[2mpysocks   \u001b[0m \u001b[32m------------------------------\u001b[2m\u001b[0m\u001b[0m 16.73 kB/16.73 kB\n",
            "\u001b[2mgdown     \u001b[0m \u001b[32m-----\u001b[2m-------------------------\u001b[0m\u001b[0m 2.76 kB/18.23 kB\n",
            "\u001b[2K\u001b[3A\u001b[37m⠙\u001b[0m \u001b[2mPreparing packages...\u001b[0m (0/4)----\u001b[0m\u001b[0m 23.51 kB/36.19 kB                     \u001b[3A\n",
            "\u001b[2mgdown     \u001b[0m \u001b[32m-----------------------\u001b[2m-------\u001b[0m\u001b[0m 13.78 kB/18.23 kB\n",
            "\u001b[2K\u001b[2A\u001b[37m⠙\u001b[0m \u001b[2mPreparing packages...\u001b[0m (0/4)m---\u001b[0m\u001b[0m 31.78 kB/36.19 kB                     \u001b[2A\n",
            "\u001b[2msoupsieve \u001b[0m \u001b[32m-----------------------------\u001b[2m-\u001b[0m\u001b[0m 34.53 kB/36.19 kB\n",
            "\u001b[2K\u001b[2A\u001b[37m⠙\u001b[0m \u001b[2mPreparing packages...\u001b[0m (0/4)--------\u001b[0m\u001b[0m 11.02 kB/147.93 kB                \u001b[2A\n",
            "\u001b[2K\u001b[1A\u001b[37m⠙\u001b[0m \u001b[2mPreparing packages...\u001b[0m (0/4)--------\u001b[0m\u001b[0m 31.62 kB/147.93 kB                \u001b[1A\n",
            "\u001b[2K\u001b[2mPrepared \u001b[1m4 packages\u001b[0m \u001b[2min 145ms\u001b[0m\u001b[0m                                                 \u001b[1A\n",
            "\u001b[2K\u001b[2mInstalled \u001b[1m5 packages\u001b[0m \u001b[2min 13ms\u001b[0m\u001b[0m                                \u001b[0m\n",
            " \u001b[32m+\u001b[39m \u001b[1mbeautifulsoup4\u001b[0m\u001b[2m==4.12.3\u001b[0m\n",
            " \u001b[32m+\u001b[39m \u001b[1mgdown\u001b[0m\u001b[2m==5.2.0\u001b[0m\n",
            " \u001b[32m+\u001b[39m \u001b[1mpysocks\u001b[0m\u001b[2m==1.7.1\u001b[0m\n",
            " \u001b[32m+\u001b[39m \u001b[1msoupsieve\u001b[0m\u001b[2m==2.6\u001b[0m\n",
            " \u001b[32m+\u001b[39m \u001b[1mtqdm\u001b[0m\u001b[2m==4.67.1\u001b[0m\n",
            "Downloading...\n",
            "From: https://drive.google.com/uc?id=1EcrlXYUyIEM3aeIJse6nPpiv_UjSKgoU&confirm=t\n",
            "To: /Users/hirunkulphimsiri/Documents/programming/project/NLP_2025/codes/L01_Intro&Tokenization/corpora.tar.gz\n",
            "100%|████████████████████████████████████████| 121M/121M [00:12<00:00, 9.92MB/s]\n"
          ]
        }
      ],
      "source": [
        "#Download dataset\n",
        "!uv add gdown\n",
        "!gdown \"1EcrlXYUyIEM3aeIJse6nPpiv_UjSKgoU&confirm=t\""
      ]
    },
    {
      "cell_type": "code",
      "execution_count": 75,
      "metadata": {
        "id": "QBdyPTEGUXDW"
      },
      "outputs": [
        {
          "name": "stdout",
          "output_type": "stream",
          "text": [
            "x corpora/\n",
            "x corpora/mnist_data/\n",
            "x corpora/mnist_data/t10k-images-idx3-ubyte.gz\n",
            "x corpora/mnist_data/train-images-idx3-ubyte.gz\n",
            "x corpora/mnist_data/.ipynb_checkpoints/\n",
            "x corpora/mnist_data/vis_utils.py\n",
            "x corpora/mnist_data/__init__.py\n",
            "x corpora/mnist_data/load_mnist.py\n",
            "x corpora/mnist_data/train-labels-idx1-ubyte.gz\n",
            "x corpora/mnist_data/t10k-labels-idx1-ubyte.gz\n",
            "x corpora/BEST/\n",
            "x corpora/BEST/test/\n",
            "x corpora/BEST/test/df_best_article_test.csv\n",
            "x corpora/BEST/test/df_best_encyclopedia_test.csv\n",
            "x corpora/BEST/test/df_best_novel_test.csv\n",
            "x corpora/BEST/test/df_best_news_test.csv\n",
            "x corpora/BEST/train/\n",
            "x corpora/BEST/train/df_best_encyclopedia_train.csv\n",
            "x corpora/BEST/train/df_best_article_train.csv\n",
            "x corpora/BEST/train/df_best_news_train.csv\n",
            "x corpora/BEST/train/df_best_novel_train.csv\n",
            "x corpora/BEST/val/\n",
            "x corpora/BEST/val/df_best_encyclopedia_val.csv\n",
            "x corpora/BEST/val/df_best_news_val.csv\n",
            "x corpora/BEST/val/df_best_article_val.csv\n",
            "x corpora/BEST/val/df_best_novel_val.csv\n",
            "x corpora/.ipynb_checkpoints/\n",
            "x corpora/.ipynb_checkpoints/Word_Tokenizer.new-checkpoint.ipynb\n",
            "x corpora/.ipynb_checkpoints/BackProp-checkpoint.ipynb\n",
            "x corpora/.ipynb_checkpoints/Word_Tokenizer_backup-checkpoint.ipynb\n",
            "x corpora/.ipynb_checkpoints/char2vec-checkpoint.ipynb\n",
            "x corpora/.ipynb_checkpoints/Word_Tokenizer-checkpoint.ipynb\n",
            "x corpora/cattern/\n",
            "x corpora/cattern/gradient_check.py\n",
            "x corpora/cattern/.ipynb_checkpoints/\n",
            "x corpora/cattern/__init__.py\n",
            "x corpora/cattern/data_utils.py\n",
            "x corpora/wiki/\n",
            "x corpora/wiki/thwiki_chk.txt\n"
          ]
        }
      ],
      "source": [
        "!tar xvf corpora.tar.gz"
      ]
    },
    {
      "cell_type": "code",
      "execution_count": 76,
      "metadata": {
        "id": "ndv-whcXU2_5"
      },
      "outputs": [
        {
          "name": "stdout",
          "output_type": "stream",
          "text": [
            "\u001b[2K\u001b[2mResolved \u001b[1m80 packages\u001b[0m \u001b[2min 165ms\u001b[0m\u001b[0m                                        \u001b[0m\n",
            "\u001b[2K\u001b[2mInstalled \u001b[1m3 packages\u001b[0m \u001b[2min 64ms\u001b[0m\u001b[0m                                \u001b[0m     \u001b[0m░░░░░░░░░░░░░░░░░░░░ [0/0] \u001b[2mInstalling wheels...                                 \u001b[0m\n",
            " \u001b[32m+\u001b[39m \u001b[1mpandas\u001b[0m\u001b[2m==2.2.3\u001b[0m\n",
            " \u001b[32m+\u001b[39m \u001b[1mpytz\u001b[0m\u001b[2m==2024.2\u001b[0m\n",
            " \u001b[32m+\u001b[39m \u001b[1mtzdata\u001b[0m\u001b[2m==2024.2\u001b[0m\n"
          ]
        }
      ],
      "source": [
        "!uv add pandas\n",
        "import pandas as pd\n",
        "import os"
      ]
    },
    {
      "cell_type": "code",
      "execution_count": 77,
      "metadata": {
        "id": "l6fgMSRYUY5G"
      },
      "outputs": [
        {
          "data": {
            "text/html": [
              "<div>\n",
              "<style scoped>\n",
              "    .dataframe tbody tr th:only-of-type {\n",
              "        vertical-align: middle;\n",
              "    }\n",
              "\n",
              "    .dataframe tbody tr th {\n",
              "        vertical-align: top;\n",
              "    }\n",
              "\n",
              "    .dataframe thead th {\n",
              "        text-align: right;\n",
              "    }\n",
              "</style>\n",
              "<table border=\"1\" class=\"dataframe\">\n",
              "  <thead>\n",
              "    <tr style=\"text-align: right;\">\n",
              "      <th></th>\n",
              "      <th>char</th>\n",
              "      <th>target</th>\n",
              "    </tr>\n",
              "  </thead>\n",
              "  <tbody>\n",
              "    <tr>\n",
              "      <th>0</th>\n",
              "      <td>ป</td>\n",
              "      <td>True</td>\n",
              "    </tr>\n",
              "    <tr>\n",
              "      <th>1</th>\n",
              "      <td>ฏ</td>\n",
              "      <td>False</td>\n",
              "    </tr>\n",
              "    <tr>\n",
              "      <th>2</th>\n",
              "      <td>ิ</td>\n",
              "      <td>False</td>\n",
              "    </tr>\n",
              "    <tr>\n",
              "      <th>3</th>\n",
              "      <td>ร</td>\n",
              "      <td>False</td>\n",
              "    </tr>\n",
              "    <tr>\n",
              "      <th>4</th>\n",
              "      <td>ู</td>\n",
              "      <td>False</td>\n",
              "    </tr>\n",
              "    <tr>\n",
              "      <th>...</th>\n",
              "      <td>...</td>\n",
              "      <td>...</td>\n",
              "    </tr>\n",
              "    <tr>\n",
              "      <th>644911</th>\n",
              "      <td>ห</td>\n",
              "      <td>False</td>\n",
              "    </tr>\n",
              "    <tr>\n",
              "      <th>644912</th>\n",
              "      <td>น</td>\n",
              "      <td>False</td>\n",
              "    </tr>\n",
              "    <tr>\n",
              "      <th>644913</th>\n",
              "      <td>ม</td>\n",
              "      <td>True</td>\n",
              "    </tr>\n",
              "    <tr>\n",
              "      <th>644914</th>\n",
              "      <td>า</td>\n",
              "      <td>False</td>\n",
              "    </tr>\n",
              "    <tr>\n",
              "      <th>644915</th>\n",
              "      <td>\"</td>\n",
              "      <td>True</td>\n",
              "    </tr>\n",
              "  </tbody>\n",
              "</table>\n",
              "<p>2271932 rows × 2 columns</p>\n",
              "</div>"
            ],
            "text/plain": [
              "       char  target\n",
              "0         ป    True\n",
              "1         ฏ   False\n",
              "2         ิ   False\n",
              "3         ร   False\n",
              "4         ู   False\n",
              "...     ...     ...\n",
              "644911    ห   False\n",
              "644912    น   False\n",
              "644913    ม    True\n",
              "644914    า   False\n",
              "644915    \"    True\n",
              "\n",
              "[2271932 rows x 2 columns]"
            ]
          },
          "execution_count": 77,
          "metadata": {},
          "output_type": "execute_result"
        }
      ],
      "source": [
        "# Path to the preprocessed data\n",
        "best_processed_path = 'corpora/BEST'\n",
        "option = \"test\"\n",
        "\n",
        "df = []\n",
        "# article types in BEST corpus\n",
        "article_types = ['article', 'encyclopedia', 'news', 'novel']\n",
        "for article_type in article_types:\n",
        "    df.append(pd.read_csv(os.path.join(best_processed_path, option, 'df_best_{}_{}.csv'.format(article_type, option))))\n",
        "df = pd.concat(df)\n",
        "df"
      ]
    },
    {
      "cell_type": "code",
      "execution_count": 78,
      "metadata": {
        "id": "Dip-NI94U_YC"
      },
      "outputs": [
        {
          "data": {
            "text/plain": [
              "2271932"
            ]
          },
          "execution_count": 78,
          "metadata": {},
          "output_type": "execute_result"
        }
      ],
      "source": [
        "len(df)"
      ]
    },
    {
      "cell_type": "code",
      "execution_count": 79,
      "metadata": {
        "id": "7bNjYdcJVgov"
      },
      "outputs": [
        {
          "data": {
            "text/plain": [
              "'ปฏิรูปการศึกษา : มุมมองทางกระบวนทัศน์และบริบทสังคมไทยThe Reformation of Eucation from A Thai Perspectiveกระบวนทัศน์และวิธีคิดแบบแยกส่วน ลดส่วน ได้ทำให้\"การศึกษาเรียนรู้\"ใน หลายทศวรรษที่ผ่านมา กลายเป็นเรื่องของนักวิชาการด้านศึกษาศาสตร์ ครุศาสตร์ หรือเป็นเรื่องของโรงเรียน ครูอาจารย์ กระทรวงศึกษาธิการ ทบวงมหาวิทยาลัยฯ มาอย่างต่อเนื่องยาวนาน (เหมือนกับที่เรื่องสุขภาพเป็นเรื่องของแพทย์และโรงพยาบาล) การจัดการศึกษาภายใต้กระบวนทัศน์และวิธีคิดแบบดังกล่าวของรัฐ ได้ถูกวิพากษ์วิจารณ์และตกเป็นจำเลยจากวิกฤตการณ์ทางสังคมมากมาย อันสะท้อนถึงความล้มเหลวของการจัดการศึกษาเพื่อพัฒนามนุษย์ (ปัญหาศีลธรรมเสื่อมถอย ยาเสพติด การขาดจิตสำนึกทางสังคม ฯลฯ) ซึ่งสังคมร่วมกันสรุปว่า เกิดจากความล้มเหลวของระบบการศึกษาในกระบวนทัศน์แบบแยกส่วน นำมาสู่การปฏิรูปการศึกษาที่กำลังดำเนินการอยู่ในปัจจุบัน ด้วยเป้าหมายเพื่อสร้างการเรียนรู้แบบองค์รวม ที่จะทำให้\"ผู้เรียนเก่ง-ดี-มีความสุข\"คำถามที่ผู้เขียนสนใจในการปฏิรูปการศึกษาที่ดำเนินการในปัจจุบัน คือ๑.การปฏิรูปการศึกษาในปัจจุบันดำเนินการภายใต้กระบวนทัศน์แบบบูรณาการ (องค์รวม)ตามที่'"
            ]
          },
          "execution_count": 79,
          "metadata": {},
          "output_type": "execute_result"
        }
      ],
      "source": [
        "# Some text in this corpus\n",
        "all_text = \"\".join(df['char'].tolist())\n",
        "all_text[:1000]"
      ]
    },
    {
      "cell_type": "markdown",
      "metadata": {
        "id": "18d3EXoPWg7o"
      },
      "source": [
        "### <font color=blue>Question 4</font>\n",
        "Using PyThaiNLP `newmm`, how many words did you get in the BEST corpus (test)? [Runtime is around 7 mins] What are the accuracy, f1, precision, recall scores for each character?\n",
        "\n",
        "Answer this question in question #4 in MyCourseVille. Also print out the answer in this notebook as well.\n",
        "\n",
        "_Question: What main metric should we look at? Why?_"
      ]
    },
    {
      "cell_type": "code",
      "execution_count": 80,
      "metadata": {},
      "outputs": [
        {
          "name": "stdout",
          "output_type": "stream",
          "text": [
            "\u001b[2K\u001b[37m⠹\u001b[0m \u001b[2mthreadpoolctl==3.5.0                                                          \u001b[0m\u001b[2mResolved \u001b[1m84 packages\u001b[0m \u001b[2min 330ms\u001b[0m\u001b[0m\n",
            "\u001b[2K\u001b[37m⠙\u001b[0m \u001b[2mPreparing packages...\u001b[0m (0/2)                                                   \n",
            "\u001b[2K\u001b[1A\u001b[37m⠙\u001b[0m \u001b[2mPreparing packages...\u001b[0m (0/2)------\u001b[0m\u001b[0m     0 B/11.12 MB                    \u001b[1A\n",
            "\u001b[2K\u001b[1A\u001b[37m⠙\u001b[0m \u001b[2mPreparing packages...\u001b[0m (0/2)------\u001b[0m\u001b[0m 2.76 kB/11.12 MB                    \u001b[1A\n",
            "\u001b[2K\u001b[1A\u001b[37m⠙\u001b[0m \u001b[2mPreparing packages...\u001b[0m (0/2)------\u001b[0m\u001b[0m 6.89 kB/11.12 MB                    \u001b[1A\n",
            "\u001b[2K\u001b[1A\u001b[37m⠙\u001b[0m \u001b[2mPreparing packages...\u001b[0m (0/2)------\u001b[0m\u001b[0m 9.65 kB/11.12 MB                    \u001b[1A\n",
            "\u001b[2K\u001b[1A\u001b[37m⠙\u001b[0m \u001b[2mPreparing packages...\u001b[0m (0/2)------\u001b[0m\u001b[0m 12.40 kB/11.12 MB                   \u001b[1A\n",
            "\u001b[2K\u001b[1A\u001b[37m⠙\u001b[0m \u001b[2mPreparing packages...\u001b[0m (0/2)------\u001b[0m\u001b[0m 15.16 kB/11.12 MB                   \u001b[1A\n",
            "\u001b[2K\u001b[1A\u001b[37m⠙\u001b[0m \u001b[2mPreparing packages...\u001b[0m (0/2)------\u001b[0m\u001b[0m 19.14 kB/11.12 MB                   \u001b[1A\n",
            "\u001b[2K\u001b[1A\u001b[37m⠙\u001b[0m \u001b[2mPreparing packages...\u001b[0m (0/2)------\u001b[0m\u001b[0m 23.27 kB/11.12 MB                   \u001b[1A\n",
            "\u001b[2mscikit-learn\u001b[0m \u001b[32m-\u001b[2m-----------------------------\u001b[0m\u001b[0m 23.27 kB/11.12 MB\n",
            "\u001b[2K\u001b[2A\u001b[37m⠙\u001b[0m \u001b[2mPreparing packages...\u001b[0m (0/2)----\u001b[0m\u001b[0m     0 B/24.81 MB                      \u001b[2A\n",
            "\u001b[2mscikit-learn\u001b[0m \u001b[32m-\u001b[2m-----------------------------\u001b[0m\u001b[0m 27.41 kB/11.12 MB\n",
            "\u001b[2K\u001b[2A\u001b[37m⠙\u001b[0m \u001b[2mPreparing packages...\u001b[0m (0/2)----\u001b[0m\u001b[0m     0 B/24.81 MB                      \u001b[2A\n",
            "\u001b[2mscikit-learn\u001b[0m \u001b[32m-\u001b[2m-----------------------------\u001b[0m\u001b[0m 27.41 kB/11.12 MB\n",
            "\u001b[2K\u001b[2A\u001b[37m⠙\u001b[0m \u001b[2mPreparing packages...\u001b[0m (0/2)----\u001b[0m\u001b[0m 2.76 kB/24.81 MB                      \u001b[2A\n",
            "\u001b[2mscikit-learn\u001b[0m \u001b[32m-\u001b[2m-----------------------------\u001b[0m\u001b[0m 28.79 kB/11.12 MB\n",
            "\u001b[2K\u001b[2A\u001b[37m⠙\u001b[0m \u001b[2mPreparing packages...\u001b[0m (0/2)----\u001b[0m\u001b[0m 2.76 kB/24.81 MB                      \u001b[2A\n",
            "\u001b[2mscikit-learn\u001b[0m \u001b[32m-\u001b[2m-----------------------------\u001b[0m\u001b[0m 32.92 kB/11.12 MB\n",
            "\u001b[2K\u001b[2A\u001b[37m⠙\u001b[0m \u001b[2mPreparing packages...\u001b[0m (0/2)----\u001b[0m\u001b[0m 2.76 kB/24.81 MB                      \u001b[2A\n",
            "\u001b[2mscikit-learn\u001b[0m \u001b[32m-\u001b[2m-----------------------------\u001b[0m\u001b[0m 34.30 kB/11.12 MB\n",
            "\u001b[2K\u001b[2A\u001b[37m⠙\u001b[0m \u001b[2mPreparing packages...\u001b[0m (0/2)----\u001b[0m\u001b[0m 2.76 kB/24.81 MB                      \u001b[2A\n",
            "\u001b[2mscikit-learn\u001b[0m \u001b[32m-\u001b[2m-----------------------------\u001b[0m\u001b[0m 34.30 kB/11.12 MB\n",
            "\u001b[2K\u001b[2A\u001b[37m⠙\u001b[0m \u001b[2mPreparing packages...\u001b[0m (0/2)----\u001b[0m\u001b[0m 6.89 kB/24.81 MB                      \u001b[2A\n",
            "\u001b[2mscikit-learn\u001b[0m \u001b[32m-\u001b[2m-----------------------------\u001b[0m\u001b[0m 34.30 kB/11.12 MB\n",
            "\u001b[2K\u001b[2A\u001b[37m⠙\u001b[0m \u001b[2mPreparing packages...\u001b[0m (0/2)----\u001b[0m\u001b[0m 11.02 kB/24.81 MB                     \u001b[2A\n",
            "\u001b[2mscikit-learn\u001b[0m \u001b[32m-\u001b[2m-----------------------------\u001b[0m\u001b[0m 34.30 kB/11.12 MB\n",
            "\u001b[2K\u001b[2A\u001b[37m⠙\u001b[0m \u001b[2mPreparing packages...\u001b[0m (0/2)----\u001b[0m\u001b[0m 15.16 kB/24.81 MB                     \u001b[2A\n",
            "\u001b[2mscikit-learn\u001b[0m \u001b[32m-\u001b[2m-----------------------------\u001b[0m\u001b[0m 34.30 kB/11.12 MB\n",
            "\u001b[2K\u001b[2A\u001b[37m⠙\u001b[0m \u001b[2mPreparing packages...\u001b[0m (0/2)----\u001b[0m\u001b[0m 19.29 kB/24.81 MB                     \u001b[2A\n",
            "\u001b[2mscikit-learn\u001b[0m \u001b[32m-\u001b[2m-----------------------------\u001b[0m\u001b[0m 95.81 kB/11.12 MB\n",
            "\u001b[2K\u001b[2A\u001b[37m⠙\u001b[0m \u001b[2mPreparing packages...\u001b[0m (0/2)----\u001b[0m\u001b[0m 95.80 kB/24.81 MB                     \u001b[2A\n",
            "\u001b[2mscikit-learn\u001b[0m \u001b[32m-\u001b[2m-----------------------------\u001b[0m\u001b[0m 194.12 kB/11.12 MB\n",
            "\u001b[2K\u001b[2A\u001b[37m⠹\u001b[0m \u001b[2mPreparing packages...\u001b[0m (0/2)----\u001b[0m\u001b[0m 194.10 kB/24.81 MB                    \u001b[2A\n",
            "\u001b[2mscikit-learn\u001b[0m \u001b[32m--\u001b[2m----------------------------\u001b[0m\u001b[0m 407.11 kB/11.12 MB\n",
            "\u001b[2K\u001b[2A\u001b[37m⠹\u001b[0m \u001b[2mPreparing packages...\u001b[0m (0/2)----\u001b[0m\u001b[0m 325.17 kB/24.81 MB                    \u001b[2A\n",
            "\u001b[2mscikit-learn\u001b[0m \u001b[32m--\u001b[2m----------------------------\u001b[0m\u001b[0m 587.33 kB/11.12 MB\n",
            "\u001b[2K\u001b[2A\u001b[37m⠹\u001b[0m \u001b[2mPreparing packages...\u001b[0m (0/2)----\u001b[0m\u001b[0m 472.63 kB/24.81 MB                    \u001b[2A\n",
            "\u001b[2mscikit-learn\u001b[0m \u001b[32m---\u001b[2m---------------------------\u001b[0m\u001b[0m 767.56 kB/11.12 MB\n",
            "\u001b[2K\u001b[2A\u001b[37m⠹\u001b[0m \u001b[2mPreparing packages...\u001b[0m (0/2)----\u001b[0m\u001b[0m 636.47 kB/24.81 MB                    \u001b[2A\n",
            "\u001b[2mscikit-learn\u001b[0m \u001b[32m---\u001b[2m---------------------------\u001b[0m\u001b[0m 931.40 kB/11.12 MB\n",
            "\u001b[2K\u001b[2A\u001b[37m⠹\u001b[0m \u001b[2mPreparing packages...\u001b[0m (0/2)----\u001b[0m\u001b[0m 783.92 kB/24.81 MB                    \u001b[2A\n",
            "\u001b[2mscikit-learn\u001b[0m \u001b[32m----\u001b[2m--------------------------\u001b[0m\u001b[0m 1.16 MB/11.12 MB\n",
            "\u001b[2K\u001b[2A\u001b[37m⠸\u001b[0m \u001b[2mPreparing packages...\u001b[0m (0/2)----\u001b[0m\u001b[0m 980.53 kB/24.81 MB                    \u001b[2A\n",
            "\u001b[2mscikit-learn\u001b[0m \u001b[32m----\u001b[2m--------------------------\u001b[0m\u001b[0m 1.33 MB/11.12 MB\n",
            "\u001b[2K\u001b[2A\u001b[37m⠸\u001b[0m \u001b[2mPreparing packages...\u001b[0m (0/2)----\u001b[0m\u001b[0m 1.13 MB/24.81 MB                      \u001b[2A\n",
            "\u001b[2mscikit-learn\u001b[0m \u001b[32m-----\u001b[2m-------------------------\u001b[0m\u001b[0m 1.55 MB/11.12 MB\n",
            "\u001b[2K\u001b[2A\u001b[37m⠸\u001b[0m \u001b[2mPreparing packages...\u001b[0m (0/2)----\u001b[0m\u001b[0m 1.31 MB/24.81 MB                      \u001b[2A\n",
            "\u001b[2mscikit-learn\u001b[0m \u001b[32m-----\u001b[2m-------------------------\u001b[0m\u001b[0m 1.70 MB/11.12 MB\n",
            "\u001b[2K\u001b[2A\u001b[37m⠸\u001b[0m \u001b[2mPreparing packages...\u001b[0m (0/2)----\u001b[0m\u001b[0m 1.44 MB/24.81 MB                      \u001b[2A\n",
            "\u001b[2mscikit-learn\u001b[0m \u001b[32m------\u001b[2m------------------------\u001b[0m\u001b[0m 1.95 MB/11.12 MB\n",
            "\u001b[2K\u001b[2A\u001b[37m⠼\u001b[0m \u001b[2mPreparing packages...\u001b[0m (0/2)----\u001b[0m\u001b[0m 1.65 MB/24.81 MB                      \u001b[2A\n",
            "\u001b[2mscikit-learn\u001b[0m \u001b[32m------\u001b[2m------------------------\u001b[0m\u001b[0m 2.11 MB/11.12 MB\n",
            "\u001b[2K\u001b[2A\u001b[37m⠼\u001b[0m \u001b[2mPreparing packages...\u001b[0m (0/2)----\u001b[0m\u001b[0m 1.83 MB/24.81 MB                      \u001b[2A\n",
            "\u001b[2mscikit-learn\u001b[0m \u001b[32m-------\u001b[2m-----------------------\u001b[0m\u001b[0m 2.31 MB/11.12 MB\n",
            "\u001b[2K\u001b[2A\u001b[37m⠼\u001b[0m \u001b[2mPreparing packages...\u001b[0m (0/2)----\u001b[0m\u001b[0m 2.00 MB/24.81 MB                      \u001b[2A\n",
            "\u001b[2mscikit-learn\u001b[0m \u001b[32m-------\u001b[2m-----------------------\u001b[0m\u001b[0m 2.57 MB/11.12 MB\n",
            "\u001b[2K\u001b[2A\u001b[37m⠼\u001b[0m \u001b[2mPreparing packages...\u001b[0m (0/2)----\u001b[0m\u001b[0m 2.23 MB/24.81 MB                      \u001b[2A\n",
            "\u001b[2mscikit-learn\u001b[0m \u001b[32m--------\u001b[2m----------------------\u001b[0m\u001b[0m 2.80 MB/11.12 MB\n",
            "\u001b[2K\u001b[2A\u001b[37m⠴\u001b[0m \u001b[2mPreparing packages...\u001b[0m (0/2)----\u001b[0m\u001b[0m 2.44 MB/24.81 MB                      \u001b[2A\n",
            "\u001b[2mscikit-learn\u001b[0m \u001b[32m---------\u001b[2m---------------------\u001b[0m\u001b[0m 3.01 MB/11.12 MB\n",
            "\u001b[2K\u001b[2A\u001b[37m⠴\u001b[0m \u001b[2mPreparing packages...\u001b[0m (0/2)----\u001b[0m\u001b[0m 2.67 MB/24.81 MB                      \u001b[2A\n",
            "\u001b[2mscikit-learn\u001b[0m \u001b[32m---------\u001b[2m---------------------\u001b[0m\u001b[0m 3.17 MB/11.12 MB\n",
            "\u001b[2K\u001b[2A\u001b[37m⠴\u001b[0m \u001b[2mPreparing packages...\u001b[0m (0/2)----\u001b[0m\u001b[0m 2.82 MB/24.81 MB                      \u001b[2A\n",
            "\u001b[2mscikit-learn\u001b[0m \u001b[32m----------\u001b[2m--------------------\u001b[0m\u001b[0m 3.47 MB/11.12 MB\n",
            "\u001b[2K\u001b[2A\u001b[37m⠴\u001b[0m \u001b[2mPreparing packages...\u001b[0m (0/2)----\u001b[0m\u001b[0m 3.04 MB/24.81 MB                      \u001b[2A\n",
            "\u001b[2mscikit-learn\u001b[0m \u001b[32m-----------\u001b[2m-------------------\u001b[0m\u001b[0m 3.76 MB/11.12 MB\n",
            "\u001b[2K\u001b[2A\u001b[37m⠦\u001b[0m \u001b[2mPreparing packages...\u001b[0m (0/2)----\u001b[0m\u001b[0m 3.24 MB/24.81 MB                      \u001b[2A\n",
            "\u001b[2mscikit-learn\u001b[0m \u001b[32m-----------\u001b[2m-------------------\u001b[0m\u001b[0m 3.99 MB/11.12 MB\n",
            "\u001b[2K\u001b[2A\u001b[37m⠦\u001b[0m \u001b[2mPreparing packages...\u001b[0m (0/2)----\u001b[0m\u001b[0m 3.47 MB/24.81 MB                      \u001b[2A\n",
            "\u001b[2mscikit-learn\u001b[0m \u001b[32m------------\u001b[2m------------------\u001b[0m\u001b[0m 4.25 MB/11.12 MB\n",
            "\u001b[2K\u001b[2A\u001b[37m⠦\u001b[0m \u001b[2mPreparing packages...\u001b[0m (0/2)----\u001b[0m\u001b[0m 3.68 MB/24.81 MB                      \u001b[2A\n",
            "\u001b[2mscikit-learn\u001b[0m \u001b[32m-------------\u001b[2m-----------------\u001b[0m\u001b[0m 4.48 MB/11.12 MB\n",
            "\u001b[2K\u001b[2A\u001b[37m⠦\u001b[0m \u001b[2mPreparing packages...\u001b[0m (0/2)----\u001b[0m\u001b[0m 3.85 MB/24.81 MB                      \u001b[2A\n",
            "\u001b[2mscikit-learn\u001b[0m \u001b[32m-------------\u001b[2m-----------------\u001b[0m\u001b[0m 4.68 MB/11.12 MB\n",
            "\u001b[2K\u001b[2A\u001b[37m⠧\u001b[0m \u001b[2mPreparing packages...\u001b[0m (0/2)----\u001b[0m\u001b[0m 4.04 MB/24.81 MB                      \u001b[2A\n",
            "\u001b[2mscikit-learn\u001b[0m \u001b[32m--------------\u001b[2m----------------\u001b[0m\u001b[0m 4.96 MB/11.12 MB\n",
            "\u001b[2K\u001b[2A\u001b[37m⠧\u001b[0m \u001b[2mPreparing packages...\u001b[0m (0/2)----\u001b[0m\u001b[0m 4.31 MB/24.81 MB                      \u001b[2A\n",
            "\u001b[2mscikit-learn\u001b[0m \u001b[32m---------------\u001b[2m---------------\u001b[0m\u001b[0m 5.25 MB/11.12 MB\n",
            "\u001b[2K\u001b[2A\u001b[37m⠧\u001b[0m \u001b[2mPreparing packages...\u001b[0m (0/2)----\u001b[0m\u001b[0m 4.54 MB/24.81 MB                      \u001b[2A\n",
            "\u001b[2mscikit-learn\u001b[0m \u001b[32m---------------\u001b[2m---------------\u001b[0m\u001b[0m 5.55 MB/11.12 MB\n",
            "\u001b[2K\u001b[2A\u001b[37m⠧\u001b[0m \u001b[2mPreparing packages...\u001b[0m (0/2)----\u001b[0m\u001b[0m 4.80 MB/24.81 MB                      \u001b[2A\n",
            "\u001b[2mscikit-learn\u001b[0m \u001b[32m----------------\u001b[2m--------------\u001b[0m\u001b[0m 5.70 MB/11.12 MB\n",
            "\u001b[2K\u001b[2A\u001b[37m⠇\u001b[0m \u001b[2mPreparing packages...\u001b[0m (0/2)----\u001b[0m\u001b[0m 4.93 MB/24.81 MB                      \u001b[2A\n",
            "\u001b[2mscikit-learn\u001b[0m \u001b[32m-----------------\u001b[2m-------------\u001b[0m\u001b[0m 6.02 MB/11.12 MB\n",
            "\u001b[2K\u001b[2A\u001b[37m⠇\u001b[0m \u001b[2mPreparing packages...\u001b[0m (0/2)----\u001b[0m\u001b[0m 5.17 MB/24.81 MB                      \u001b[2A\n",
            "\u001b[2mscikit-learn\u001b[0m \u001b[32m------------------\u001b[2m------------\u001b[0m\u001b[0m 6.35 MB/11.12 MB\n",
            "\u001b[2K\u001b[2A\u001b[37m⠇\u001b[0m \u001b[2mPreparing packages...\u001b[0m (0/2)----\u001b[0m\u001b[0m 5.44 MB/24.81 MB                      \u001b[2A\n",
            "\u001b[2mscikit-learn\u001b[0m \u001b[32m------------------\u001b[2m------------\u001b[0m\u001b[0m 6.58 MB/11.12 MB\n",
            "\u001b[2K\u001b[2A\u001b[37m⠇\u001b[0m \u001b[2mPreparing packages...\u001b[0m (0/2)----\u001b[0m\u001b[0m 5.68 MB/24.81 MB                      \u001b[2A\n",
            "\u001b[2mscikit-learn\u001b[0m \u001b[32m-------------------\u001b[2m-----------\u001b[0m\u001b[0m 6.84 MB/11.12 MB\n",
            "\u001b[2K\u001b[2A\u001b[37m⠋\u001b[0m \u001b[2mPreparing packages...\u001b[0m (0/2)----\u001b[0m\u001b[0m 5.88 MB/24.81 MB                      \u001b[2A\n",
            "\u001b[2mscikit-learn\u001b[0m \u001b[32m--------------------\u001b[2m----------\u001b[0m\u001b[0m 7.06 MB/11.12 MB\n",
            "\u001b[2K\u001b[2A\u001b[37m⠋\u001b[0m \u001b[2mPreparing packages...\u001b[0m (0/2)----\u001b[0m\u001b[0m 6.06 MB/24.81 MB                      \u001b[2A\n",
            "\u001b[2mscikit-learn\u001b[0m \u001b[32m--------------------\u001b[2m----------\u001b[0m\u001b[0m 7.32 MB/11.12 MB\n",
            "\u001b[2K\u001b[2A\u001b[37m⠋\u001b[0m \u001b[2mPreparing packages...\u001b[0m (0/2)----\u001b[0m\u001b[0m 6.29 MB/24.81 MB                      \u001b[2A\n",
            "\u001b[2mscikit-learn\u001b[0m \u001b[32m--------------------\u001b[2m----------\u001b[0m\u001b[0m 7.33 MB/11.12 MB\n",
            "\u001b[2K\u001b[2A\u001b[37m⠋\u001b[0m \u001b[2mPreparing packages...\u001b[0m (0/2)----\u001b[0m\u001b[0m 6.29 MB/24.81 MB                      \u001b[2A\n",
            "\u001b[2mscikit-learn\u001b[0m \u001b[32m----------------------\u001b[2m--------\u001b[0m\u001b[0m 7.89 MB/11.12 MB\n",
            "\u001b[2K\u001b[2A\u001b[37m⠙\u001b[0m \u001b[2mPreparing packages...\u001b[0m (0/2)----\u001b[0m\u001b[0m 6.83 MB/24.81 MB                      \u001b[2A\n",
            "\u001b[2mscikit-learn\u001b[0m \u001b[32m-----------------------\u001b[2m-------\u001b[0m\u001b[0m 8.24 MB/11.12 MB\n",
            "\u001b[2K\u001b[2A\u001b[37m⠙\u001b[0m \u001b[2mPreparing packages...\u001b[0m (0/2)----\u001b[0m\u001b[0m 7.07 MB/24.81 MB                      \u001b[2A\n",
            "\u001b[2mscikit-learn\u001b[0m \u001b[32m-----------------------\u001b[2m-------\u001b[0m\u001b[0m 8.37 MB/11.12 MB\n",
            "\u001b[2K\u001b[2A\u001b[37m⠙\u001b[0m \u001b[2mPreparing packages...\u001b[0m (0/2)----\u001b[0m\u001b[0m 7.21 MB/24.81 MB                      \u001b[2A\n",
            "\u001b[2mscikit-learn\u001b[0m \u001b[32m------------------------\u001b[2m------\u001b[0m\u001b[0m 8.65 MB/11.12 MB\n",
            "\u001b[2K\u001b[2A\u001b[37m⠙\u001b[0m \u001b[2mPreparing packages...\u001b[0m (0/2)----\u001b[0m\u001b[0m 7.39 MB/24.81 MB                      \u001b[2A\n",
            "\u001b[2mscikit-learn\u001b[0m \u001b[32m------------------------\u001b[2m------\u001b[0m\u001b[0m 8.88 MB/11.12 MB\n",
            "\u001b[2K\u001b[2A\u001b[37m⠹\u001b[0m \u001b[2mPreparing packages...\u001b[0m (0/2)----\u001b[0m\u001b[0m 7.58 MB/24.81 MB                      \u001b[2A\n",
            "\u001b[2mscikit-learn\u001b[0m \u001b[32m--------------------------\u001b[2m----\u001b[0m\u001b[0m 9.29 MB/11.12 MB\n",
            "\u001b[2K\u001b[2A\u001b[37m⠹\u001b[0m \u001b[2mPreparing packages...\u001b[0m (0/2)----\u001b[0m\u001b[0m 7.93 MB/24.81 MB                      \u001b[2A\n",
            "\u001b[2mscikit-learn\u001b[0m \u001b[32m--------------------------\u001b[2m----\u001b[0m\u001b[0m 9.34 MB/11.12 MB\n",
            "\u001b[2K\u001b[2A\u001b[37m⠹\u001b[0m \u001b[2mPreparing packages...\u001b[0m (0/2)----\u001b[0m\u001b[0m 8.01 MB/24.81 MB                      \u001b[2A\n",
            "\u001b[2mscikit-learn\u001b[0m \u001b[32m---------------------------\u001b[2m---\u001b[0m\u001b[0m 9.84 MB/11.12 MB\n",
            "\u001b[2K\u001b[2A\u001b[37m⠹\u001b[0m \u001b[2mPreparing packages...\u001b[0m (0/2)----\u001b[0m\u001b[0m 8.42 MB/24.81 MB                      \u001b[2A\n",
            "\u001b[2mscikit-learn\u001b[0m \u001b[32m----------------------------\u001b[2m--\u001b[0m\u001b[0m 10.02 MB/11.12 MB\n",
            "\u001b[2K\u001b[2A\u001b[37m⠸\u001b[0m \u001b[2mPreparing packages...\u001b[0m (0/2)----\u001b[0m\u001b[0m 8.58 MB/24.81 MB                      \u001b[2A\n",
            "\u001b[2mscikit-learn\u001b[0m \u001b[32m----------------------------\u001b[2m--\u001b[0m\u001b[0m 10.20 MB/11.12 MB\n",
            "\u001b[2K\u001b[2A\u001b[37m⠸\u001b[0m \u001b[2mPreparing packages...\u001b[0m (0/2)----\u001b[0m\u001b[0m 8.72 MB/24.81 MB                      \u001b[2A\n",
            "\u001b[2mscikit-learn\u001b[0m \u001b[32m-----------------------------\u001b[2m-\u001b[0m\u001b[0m 10.63 MB/11.12 MB\n",
            "\u001b[2K\u001b[2A\u001b[37m⠸\u001b[0m \u001b[2mPreparing packages...\u001b[0m (0/2)----\u001b[0m\u001b[0m 9.11 MB/24.81 MB                      \u001b[2A\n",
            "\u001b[2mscikit-learn\u001b[0m \u001b[32m------------------------------\u001b[2m\u001b[0m\u001b[0m 10.84 MB/11.12 MB\n",
            "\u001b[2K\u001b[2A\u001b[37m⠸\u001b[0m \u001b[2mPreparing packages...\u001b[0m (0/2)----\u001b[0m\u001b[0m 9.29 MB/24.81 MB                      \u001b[2A\n",
            "\u001b[2K\u001b[1A\u001b[37m⠸\u001b[0m \u001b[2mPreparing packages...\u001b[0m (0/2)----\u001b[0m\u001b[0m 9.54 MB/24.81 MB                      \u001b[1A\n",
            "\u001b[2K\u001b[1A\u001b[37m⠼\u001b[0m \u001b[2mPreparing packages...\u001b[0m (1/2)----\u001b[0m\u001b[0m 9.70 MB/24.81 MB                      \u001b[1A\n",
            "\u001b[2K\u001b[1A\u001b[37m⠼\u001b[0m \u001b[2mPreparing packages...\u001b[0m (1/2)----\u001b[0m\u001b[0m 10.17 MB/24.81 MB                     \u001b[1A\n",
            "\u001b[2K\u001b[1A\u001b[37m⠼\u001b[0m \u001b[2mPreparing packages...\u001b[0m (1/2)----\u001b[0m\u001b[0m 10.78 MB/24.81 MB                     \u001b[1A\n",
            "\u001b[2K\u001b[1A\u001b[37m⠼\u001b[0m \u001b[2mPreparing packages...\u001b[0m (1/2)----\u001b[0m\u001b[0m 11.20 MB/24.81 MB                     \u001b[1A\n",
            "\u001b[2K\u001b[1A\u001b[37m⠴\u001b[0m \u001b[2mPreparing packages...\u001b[0m (1/2)----\u001b[0m\u001b[0m 11.70 MB/24.81 MB                     \u001b[1A\n",
            "\u001b[2K\u001b[1A\u001b[37m⠴\u001b[0m \u001b[2mPreparing packages...\u001b[0m (1/2)----\u001b[0m\u001b[0m 12.28 MB/24.81 MB                     \u001b[1A\n",
            "\u001b[2K\u001b[1A\u001b[37m⠴\u001b[0m \u001b[2mPreparing packages...\u001b[0m (1/2)----\u001b[0m\u001b[0m 12.61 MB/24.81 MB                     \u001b[1A\n",
            "\u001b[2K\u001b[1A\u001b[37m⠴\u001b[0m \u001b[2mPreparing packages...\u001b[0m (1/2)----\u001b[0m\u001b[0m 13.07 MB/24.81 MB                     \u001b[1A\n",
            "\u001b[2K\u001b[1A\u001b[37m⠦\u001b[0m \u001b[2mPreparing packages...\u001b[0m (1/2)----\u001b[0m\u001b[0m 13.48 MB/24.81 MB                     \u001b[1A\n",
            "\u001b[2K\u001b[1A\u001b[37m⠦\u001b[0m \u001b[2mPreparing packages...\u001b[0m (1/2)----\u001b[0m\u001b[0m 14.04 MB/24.81 MB                     \u001b[1A\n",
            "\u001b[2K\u001b[1A\u001b[37m⠦\u001b[0m \u001b[2mPreparing packages...\u001b[0m (1/2)----\u001b[0m\u001b[0m 14.53 MB/24.81 MB                     \u001b[1A\n",
            "\u001b[2K\u001b[1A\u001b[37m⠦\u001b[0m \u001b[2mPreparing packages...\u001b[0m (1/2)----\u001b[0m\u001b[0m 14.94 MB/24.81 MB                     \u001b[1A\n",
            "\u001b[2K\u001b[1A\u001b[37m⠧\u001b[0m \u001b[2mPreparing packages...\u001b[0m (1/2)----\u001b[0m\u001b[0m 15.63 MB/24.81 MB                     \u001b[1A\n",
            "\u001b[2K\u001b[1A\u001b[37m⠧\u001b[0m \u001b[2mPreparing packages...\u001b[0m (1/2)----\u001b[0m\u001b[0m 15.91 MB/24.81 MB                     \u001b[1A\n",
            "\u001b[2K\u001b[1A\u001b[37m⠧\u001b[0m \u001b[2mPreparing packages...\u001b[0m (1/2)----\u001b[0m\u001b[0m 16.48 MB/24.81 MB                     \u001b[1A\n",
            "\u001b[2K\u001b[1A\u001b[37m⠧\u001b[0m \u001b[2mPreparing packages...\u001b[0m (1/2)----\u001b[0m\u001b[0m 16.88 MB/24.81 MB                     \u001b[1A\n",
            "\u001b[2K\u001b[1A\u001b[37m⠇\u001b[0m \u001b[2mPreparing packages...\u001b[0m (1/2)----\u001b[0m\u001b[0m 17.66 MB/24.81 MB                     \u001b[1A\n",
            "\u001b[2K\u001b[1A\u001b[37m⠇\u001b[0m \u001b[2mPreparing packages...\u001b[0m (1/2)----\u001b[0m\u001b[0m 18.09 MB/24.81 MB                     \u001b[1A\n",
            "\u001b[2K\u001b[1A\u001b[37m⠇\u001b[0m \u001b[2mPreparing packages...\u001b[0m (1/2)----\u001b[0m\u001b[0m 18.68 MB/24.81 MB                     \u001b[1A\n",
            "\u001b[2K\u001b[1A\u001b[37m⠇\u001b[0m \u001b[2mPreparing packages...\u001b[0m (1/2)----\u001b[0m\u001b[0m 19.28 MB/24.81 MB                     \u001b[1A\n",
            "\u001b[2K\u001b[1A\u001b[37m⠋\u001b[0m \u001b[2mPreparing packages...\u001b[0m (1/2)----\u001b[0m\u001b[0m 19.45 MB/24.81 MB                     \u001b[1A\n",
            "\u001b[2K\u001b[1A\u001b[37m⠋\u001b[0m \u001b[2mPreparing packages...\u001b[0m (1/2)----\u001b[0m\u001b[0m 20.12 MB/24.81 MB                     \u001b[1A\n",
            "\u001b[2K\u001b[1A\u001b[37m⠋\u001b[0m \u001b[2mPreparing packages...\u001b[0m (1/2)----\u001b[0m\u001b[0m 20.58 MB/24.81 MB                     \u001b[1A\n",
            "\u001b[2K\u001b[1A\u001b[37m⠋\u001b[0m \u001b[2mPreparing packages...\u001b[0m (1/2)----\u001b[0m\u001b[0m 21.27 MB/24.81 MB                     \u001b[1A\n",
            "\u001b[2K\u001b[1A\u001b[37m⠋\u001b[0m \u001b[2mPreparing packages...\u001b[0m (1/2)m---\u001b[0m\u001b[0m 21.69 MB/24.81 MB                     \u001b[1A\n",
            "\u001b[2K\u001b[1A\u001b[37m⠙\u001b[0m \u001b[2mPreparing packages...\u001b[0m (1/2)m---\u001b[0m\u001b[0m 22.12 MB/24.81 MB                     \u001b[1A\n",
            "\u001b[2K\u001b[1A\u001b[37m⠙\u001b[0m \u001b[2mPreparing packages...\u001b[0m (1/2)2m--\u001b[0m\u001b[0m 22.51 MB/24.81 MB                     \u001b[1A\n",
            "\u001b[2K\u001b[1A\u001b[37m⠙\u001b[0m \u001b[2mPreparing packages...\u001b[0m (1/2)[2m-\u001b[0m\u001b[0m 23.38 MB/24.81 MB                     \u001b[1A\n",
            "\u001b[2K\u001b[1A\u001b[37m⠙\u001b[0m \u001b[2mPreparing packages...\u001b[0m (1/2)[2m-\u001b[0m\u001b[0m 23.80 MB/24.81 MB                     \u001b[1A\n",
            "\u001b[2K\u001b[2mPrepared \u001b[1m2 packages\u001b[0m \u001b[2min 3.88s\u001b[0m\u001b[0m                                                 \u001b[1A\n",
            "\u001b[2K\u001b[2mInstalled \u001b[1m4 packages\u001b[0m \u001b[2min 25ms\u001b[0m\u001b[0m                                \u001b[0m\n",
            " \u001b[32m+\u001b[39m \u001b[1mjoblib\u001b[0m\u001b[2m==1.4.2\u001b[0m\n",
            " \u001b[32m+\u001b[39m \u001b[1mscikit-learn\u001b[0m\u001b[2m==1.6.1\u001b[0m\n",
            " \u001b[32m+\u001b[39m \u001b[1mscipy\u001b[0m\u001b[2m==1.15.1\u001b[0m\n",
            " \u001b[32m+\u001b[39m \u001b[1mthreadpoolctl\u001b[0m\u001b[2m==3.5.0\u001b[0m\n"
          ]
        }
      ],
      "source": [
        "!uv add scikit-learn"
      ]
    },
    {
      "cell_type": "code",
      "execution_count": 83,
      "metadata": {
        "id": "2RUPPoxLWZr8"
      },
      "outputs": [
        {
          "name": "stdout",
          "output_type": "stream",
          "text": [
            "Number of tokens from newmm = 569,631\n"
          ]
        }
      ],
      "source": [
        "####FILL CODE HERE####\n",
        "import pandas as pd\n",
        "import os\n",
        "from pythainlp.tokenize import word_tokenize\n",
        "\n",
        "text = \"\".join(df[\"char\"].values.tolist())\n",
        "tokens = word_tokenize(text, engine='newmm')\n",
        "print(f\"Number of tokens from newmm = {len(tokens):,d}\")"
      ]
    },
    {
      "cell_type": "code",
      "execution_count": 84,
      "metadata": {
        "id": "o40FPwvIXKIQ"
      },
      "outputs": [
        {
          "data": {
            "text/plain": [
              "[1, 0, 0, 0, 0, 0, 1, 0, 0, 0, 0, 0, 0, 0, 1, 1, 1, 1, 0, 0]"
            ]
          },
          "execution_count": 84,
          "metadata": {},
          "output_type": "execute_result"
        }
      ],
      "source": [
        "def convert_to_character(_tokens):\n",
        "  char_list = [0]*len(\"\".join(_tokens))\n",
        "  char_count = 0\n",
        "  for word in _tokens:\n",
        "    char_list[char_count] = 1\n",
        "    char_count += len(word)\n",
        "  return char_list\n",
        "\n",
        "# chars = convert_to_character(tokens)\n",
        "y_pred = convert_to_character(tokens)\n",
        "y_pred[:20]"
      ]
    },
    {
      "cell_type": "code",
      "execution_count": 85,
      "metadata": {
        "id": "5NXWxbiWZHSd"
      },
      "outputs": [
        {
          "name": "stdout",
          "output_type": "stream",
          "text": [
            "Length of y_true = 2,271,932 characters\n",
            "===== Character-Level Metrics =====\n",
            "Accuracy : 0.9431\n",
            "Precision: 0.9423\n",
            "Recall   : 0.8479\n",
            "F1 Score : 0.8926\n"
          ]
        }
      ],
      "source": [
        "from sklearn.metrics import f1_score,precision_score,recall_score,accuracy_score\n",
        "\n",
        "####FILL CODE HERE####\n",
        "y_true = df[\"target\"].astype(int).values\n",
        "print(f\"Length of y_true = {len(y_true):,d} characters\")\n",
        "\n",
        "acc = accuracy_score(y_true, y_pred)\n",
        "p = precision_score(y_true, y_pred, pos_label=1)\n",
        "r = recall_score(y_true, y_pred, pos_label=1)\n",
        "f1 = f1_score(y_true, y_pred, pos_label=1)\n",
        "\n",
        "print(\"===== Character-Level Metrics =====\")\n",
        "print(f\"Accuracy : {acc:.4f}\")\n",
        "print(f\"Precision: {p:.4f}\")\n",
        "print(f\"Recall   : {r:.4f}\")\n",
        "print(f\"F1 Score : {f1:.4f}\")\n",
        "######################"
      ]
    },
    {
      "cell_type": "code",
      "execution_count": null,
      "metadata": {},
      "outputs": [],
      "source": []
    }
  ],
  "metadata": {
    "colab": {
      "provenance": [],
      "toc_visible": true
    },
    "kernelspec": {
      "display_name": ".venv",
      "language": "python",
      "name": "python3"
    },
    "language_info": {
      "codemirror_mode": {
        "name": "ipython",
        "version": 3
      },
      "file_extension": ".py",
      "mimetype": "text/x-python",
      "name": "python",
      "nbconvert_exporter": "python",
      "pygments_lexer": "ipython3",
      "version": "3.11.8"
    }
  },
  "nbformat": 4,
  "nbformat_minor": 0
}
